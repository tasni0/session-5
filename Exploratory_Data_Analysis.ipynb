{
  "cells": [
    {
      "cell_type": "code",
      "execution_count": null,
      "id": "3ff21ead",
      "metadata": {
        "id": "3ff21ead"
      },
      "outputs": [],
      "source": [
        "!pip install numpy==1.23.1\n",
        "!pip install pandas==1.4.3\n",
        "!pip install matplotlib==3.3.2\n",
        "!pip install seaborn==0.11.0"
      ]
    },
    {
      "cell_type": "markdown",
      "source": [
        "# **EDA**"
      ],
      "metadata": {
        "id": "3WXVXhXQdrOt"
      },
      "id": "3WXVXhXQdrOt"
    },
    {
      "cell_type": "code",
      "execution_count": null,
      "metadata": {
        "id": "yJAwJa0SR_oK"
      },
      "outputs": [],
      "source": [
        "import numpy as np\n",
        "import pandas as pd\n",
        "pd.set_option('display.max_rows',None)\n",
        "pd.set_option('display.max_columns',None)\n",
        "\n",
        "import matplotlib.pyplot as plt\n",
        "import seaborn as sns\n",
        "\n",
        "import os\n",
        "import time\n",
        "import re\n",
        "\n",
        "import warnings\n",
        "warnings.filterwarnings('ignore')"
      ],
      "id": "yJAwJa0SR_oK"
    },
    {
      "cell_type": "code",
      "execution_count": null,
      "metadata": {
        "id": "xz3KHGCGR_oM",
        "outputId": "a2a33628-7595-4a8d-dc19-d6768bc78c49"
      },
      "outputs": [
        {
          "name": "stdout",
          "output_type": "stream",
          "text": [
            "(200, 18)\n"
          ]
        },
        {
          "data": {
            "text/html": [
              "<div>\n",
              "<style scoped>\n",
              "    .dataframe tbody tr th:only-of-type {\n",
              "        vertical-align: middle;\n",
              "    }\n",
              "\n",
              "    .dataframe tbody tr th {\n",
              "        vertical-align: top;\n",
              "    }\n",
              "\n",
              "    .dataframe thead th {\n",
              "        text-align: right;\n",
              "    }\n",
              "</style>\n",
              "<table border=\"1\" class=\"dataframe\">\n",
              "  <thead>\n",
              "    <tr style=\"text-align: right;\">\n",
              "      <th></th>\n",
              "      <th>Sr. No.</th>\n",
              "      <th>Location</th>\n",
              "      <th>Sub-Area</th>\n",
              "      <th>Propert Type</th>\n",
              "      <th>Property Area in Sq. Ft.</th>\n",
              "      <th>Price in lakhs</th>\n",
              "      <th>Price in Millions</th>\n",
              "      <th>Company Name</th>\n",
              "      <th>TownShip Name/ Society Name</th>\n",
              "      <th>Total TownShip Area in Acres</th>\n",
              "      <th>ClubHouse</th>\n",
              "      <th>School / University in Township</th>\n",
              "      <th>Hospital in TownShip</th>\n",
              "      <th>Mall in TownShip</th>\n",
              "      <th>Park / Jogging track</th>\n",
              "      <th>Swimming Pool</th>\n",
              "      <th>Gym</th>\n",
              "      <th>Description</th>\n",
              "    </tr>\n",
              "  </thead>\n",
              "  <tbody>\n",
              "    <tr>\n",
              "      <th>0</th>\n",
              "      <td>1</td>\n",
              "      <td>Pune, Maharashtra, India</td>\n",
              "      <td>Bavdhan</td>\n",
              "      <td>1 BHK</td>\n",
              "      <td>492</td>\n",
              "      <td>39</td>\n",
              "      <td>3.9</td>\n",
              "      <td>Shapoorji Paloonji</td>\n",
              "      <td>Vanaha</td>\n",
              "      <td>1000.0</td>\n",
              "      <td>Yes</td>\n",
              "      <td>Yes</td>\n",
              "      <td>Yes</td>\n",
              "      <td>Yes</td>\n",
              "      <td>Yes</td>\n",
              "      <td>Yes</td>\n",
              "      <td>Yes</td>\n",
              "      <td>Shapoorji Paloonji comunity located in the sub...</td>\n",
              "    </tr>\n",
              "    <tr>\n",
              "      <th>1</th>\n",
              "      <td>2</td>\n",
              "      <td>Pune, Maharashtra, India</td>\n",
              "      <td>Bavdhan</td>\n",
              "      <td>2 BHK</td>\n",
              "      <td>774</td>\n",
              "      <td>65</td>\n",
              "      <td>6.5</td>\n",
              "      <td>Shapoorji Paloonji</td>\n",
              "      <td>Vanaha</td>\n",
              "      <td>1000.0</td>\n",
              "      <td>Yes</td>\n",
              "      <td>Yes</td>\n",
              "      <td>Yes</td>\n",
              "      <td>Yes</td>\n",
              "      <td>Yes</td>\n",
              "      <td>Yes</td>\n",
              "      <td>Yes</td>\n",
              "      <td>Vanaha Township located near the lonavala hill...</td>\n",
              "    </tr>\n",
              "    <tr>\n",
              "      <th>2</th>\n",
              "      <td>3</td>\n",
              "      <td>Pune, Maharashtra, India</td>\n",
              "      <td>Bavdhan</td>\n",
              "      <td>3 BHK</td>\n",
              "      <td>889</td>\n",
              "      <td>74</td>\n",
              "      <td>7.4</td>\n",
              "      <td>Shapoorji Paloonji</td>\n",
              "      <td>Vanaha</td>\n",
              "      <td>1000.0</td>\n",
              "      <td>Yes</td>\n",
              "      <td>Yes</td>\n",
              "      <td>Yes</td>\n",
              "      <td>Yes</td>\n",
              "      <td>Yes</td>\n",
              "      <td>Yes</td>\n",
              "      <td>Yes</td>\n",
              "      <td>Vanaha Society is suitable for all aged group ...</td>\n",
              "    </tr>\n",
              "    <tr>\n",
              "      <th>3</th>\n",
              "      <td>4</td>\n",
              "      <td>Pune, Maharashtra, India</td>\n",
              "      <td>Bavdhan</td>\n",
              "      <td>3 BHK Grand</td>\n",
              "      <td>1018</td>\n",
              "      <td>89</td>\n",
              "      <td>8.9</td>\n",
              "      <td>Shapoorji Paloonji</td>\n",
              "      <td>Vanaha</td>\n",
              "      <td>1000.0</td>\n",
              "      <td>Yes</td>\n",
              "      <td>Yes</td>\n",
              "      <td>Yes</td>\n",
              "      <td>Yes</td>\n",
              "      <td>Yes</td>\n",
              "      <td>Yes</td>\n",
              "      <td>Yes</td>\n",
              "      <td>Vanaha township are offering 3BHK grand prpoer...</td>\n",
              "    </tr>\n",
              "    <tr>\n",
              "      <th>4</th>\n",
              "      <td>5</td>\n",
              "      <td>Pune, Maharashtra, India</td>\n",
              "      <td>Mahalunge</td>\n",
              "      <td>2BHK</td>\n",
              "      <td>743</td>\n",
              "      <td>74</td>\n",
              "      <td>7.4</td>\n",
              "      <td>Godrej Properties</td>\n",
              "      <td>Godrej Hills retreat</td>\n",
              "      <td>100.0</td>\n",
              "      <td>Yes</td>\n",
              "      <td>Yes</td>\n",
              "      <td>Yes</td>\n",
              "      <td>Yes</td>\n",
              "      <td>Yes</td>\n",
              "      <td>Yes</td>\n",
              "      <td>Yes</td>\n",
              "      <td>The area is a hub of prestigious schools like ...</td>\n",
              "    </tr>\n",
              "  </tbody>\n",
              "</table>\n",
              "</div>"
            ],
            "text/plain": [
              "   Sr. No.                  Location   Sub-Area Propert Type  \\\n",
              "0        1  Pune, Maharashtra, India    Bavdhan        1 BHK   \n",
              "1        2  Pune, Maharashtra, India    Bavdhan        2 BHK   \n",
              "2        3  Pune, Maharashtra, India    Bavdhan        3 BHK   \n",
              "3        4  Pune, Maharashtra, India    Bavdhan  3 BHK Grand   \n",
              "4        5  Pune, Maharashtra, India  Mahalunge         2BHK   \n",
              "\n",
              "  Property Area in Sq. Ft. Price in lakhs  Price in Millions  \\\n",
              "0                      492             39                3.9   \n",
              "1                      774             65                6.5   \n",
              "2                      889             74                7.4   \n",
              "3                     1018             89                8.9   \n",
              "4                      743             74                7.4   \n",
              "\n",
              "         Company Name TownShip Name/ Society Name  \\\n",
              "0  Shapoorji Paloonji                     Vanaha    \n",
              "1  Shapoorji Paloonji                     Vanaha    \n",
              "2  Shapoorji Paloonji                     Vanaha    \n",
              "3  Shapoorji Paloonji                     Vanaha    \n",
              "4   Godrej Properties        Godrej Hills retreat   \n",
              "\n",
              "   Total TownShip Area in Acres ClubHouse School / University in Township   \\\n",
              "0                        1000.0       Yes                              Yes   \n",
              "1                        1000.0       Yes                              Yes   \n",
              "2                        1000.0       Yes                              Yes   \n",
              "3                        1000.0       Yes                              Yes   \n",
              "4                         100.0       Yes                              Yes   \n",
              "\n",
              "  Hospital in TownShip Mall in TownShip Park / Jogging track Swimming Pool  \\\n",
              "0                  Yes              Yes                  Yes           Yes   \n",
              "1                  Yes              Yes                  Yes           Yes   \n",
              "2                  Yes              Yes                  Yes           Yes   \n",
              "3                  Yes              Yes                  Yes           Yes   \n",
              "4                  Yes              Yes                  Yes           Yes   \n",
              "\n",
              "   Gym                                        Description  \n",
              "0  Yes  Shapoorji Paloonji comunity located in the sub...  \n",
              "1  Yes  Vanaha Township located near the lonavala hill...  \n",
              "2  Yes  Vanaha Society is suitable for all aged group ...  \n",
              "3  Yes  Vanaha township are offering 3BHK grand prpoer...  \n",
              "4  Yes  The area is a hub of prestigious schools like ...  "
            ]
          },
          "execution_count": 3,
          "metadata": {},
          "output_type": "execute_result"
        }
      ],
      "source": [
        "# Loading the data\n",
        "data= pd.read_excel('Pune Real Estate Data.xlsx')\n",
        "print(data.shape)\n",
        "data.head()"
      ],
      "id": "xz3KHGCGR_oM"
    },
    {
      "cell_type": "code",
      "execution_count": null,
      "metadata": {
        "id": "CrURpM5bR_oQ"
      },
      "outputs": [],
      "source": [
        "df = data.copy()"
      ],
      "id": "CrURpM5bR_oQ"
    },
    {
      "cell_type": "markdown",
      "source": [
        "# **Data Preprocessing**"
      ],
      "metadata": {
        "id": "wU9SHcCTdwvr"
      },
      "id": "wU9SHcCTdwvr"
    },
    {
      "cell_type": "code",
      "execution_count": null,
      "metadata": {
        "id": "pTAZv9X5R_oV",
        "outputId": "64c5c17d-288a-4f18-fb06-52eeeecc9b51"
      },
      "outputs": [
        {
          "data": {
            "text/plain": [
              "0      india\n",
              "1      india\n",
              "2      india\n",
              "3      india\n",
              "4      india\n",
              "5      india\n",
              "6      india\n",
              "7      india\n",
              "8      india\n",
              "9      india\n",
              "10     india\n",
              "11     india\n",
              "12     india\n",
              "13     india\n",
              "14     india\n",
              "15     india\n",
              "16     india\n",
              "17     india\n",
              "18     india\n",
              "19     india\n",
              "20     india\n",
              "21     india\n",
              "22     india\n",
              "23     india\n",
              "24     india\n",
              "25     india\n",
              "26     india\n",
              "27     india\n",
              "28     india\n",
              "29     india\n",
              "30     india\n",
              "31     india\n",
              "32     india\n",
              "33     india\n",
              "34     india\n",
              "35     india\n",
              "36     india\n",
              "37     india\n",
              "38     india\n",
              "39     india\n",
              "40     india\n",
              "41     india\n",
              "42     india\n",
              "43     india\n",
              "44     india\n",
              "45     india\n",
              "46     india\n",
              "47     india\n",
              "48     india\n",
              "49     india\n",
              "50     india\n",
              "51     india\n",
              "52     india\n",
              "53     india\n",
              "54     india\n",
              "55     india\n",
              "56     india\n",
              "57     india\n",
              "58     india\n",
              "59     india\n",
              "60     india\n",
              "61     india\n",
              "62     india\n",
              "63     india\n",
              "64     india\n",
              "65     india\n",
              "66     india\n",
              "67     india\n",
              "68     india\n",
              "69     india\n",
              "70     india\n",
              "71     india\n",
              "72     india\n",
              "73     india\n",
              "74     india\n",
              "75     india\n",
              "76     india\n",
              "77     india\n",
              "78     india\n",
              "79     india\n",
              "80     india\n",
              "81     india\n",
              "82     india\n",
              "83     india\n",
              "84     india\n",
              "85     india\n",
              "86     india\n",
              "87     india\n",
              "88     india\n",
              "89     india\n",
              "90     india\n",
              "91     india\n",
              "92     india\n",
              "93     india\n",
              "94     india\n",
              "95     india\n",
              "96     india\n",
              "97     india\n",
              "98     india\n",
              "99     india\n",
              "100    india\n",
              "101    india\n",
              "102    india\n",
              "103    india\n",
              "104    india\n",
              "105    india\n",
              "106    india\n",
              "107    india\n",
              "108    india\n",
              "109    india\n",
              "110    india\n",
              "111    india\n",
              "112    india\n",
              "113    india\n",
              "114    india\n",
              "115    india\n",
              "116    india\n",
              "117    india\n",
              "118    india\n",
              "119    india\n",
              "120    india\n",
              "121    india\n",
              "122    india\n",
              "123    india\n",
              "124    india\n",
              "125    india\n",
              "126    india\n",
              "127    india\n",
              "128    india\n",
              "129    india\n",
              "130    india\n",
              "131    india\n",
              "132    india\n",
              "133    india\n",
              "134    india\n",
              "135    india\n",
              "136    india\n",
              "137    india\n",
              "138    india\n",
              "139    india\n",
              "140    india\n",
              "141    india\n",
              "142    india\n",
              "143    india\n",
              "144    india\n",
              "145    india\n",
              "146    india\n",
              "147    india\n",
              "148    india\n",
              "149    india\n",
              "150    india\n",
              "151    india\n",
              "152    india\n",
              "153    india\n",
              "154    india\n",
              "155    india\n",
              "156    india\n",
              "157    india\n",
              "158    india\n",
              "159    india\n",
              "160    india\n",
              "161    india\n",
              "162    india\n",
              "163    india\n",
              "164    india\n",
              "165    india\n",
              "166    india\n",
              "167    india\n",
              "168    india\n",
              "169    india\n",
              "170    india\n",
              "171    india\n",
              "172    india\n",
              "173    india\n",
              "174    india\n",
              "175    india\n",
              "176    india\n",
              "177    india\n",
              "178    india\n",
              "179    india\n",
              "180    india\n",
              "181    india\n",
              "182    india\n",
              "183    india\n",
              "184    india\n",
              "185    india\n",
              "186    india\n",
              "187    india\n",
              "188    india\n",
              "189    india\n",
              "190    india\n",
              "191    india\n",
              "192    india\n",
              "193    india\n",
              "194    india\n",
              "195    india\n",
              "196    india\n",
              "197    india\n",
              "198    india\n",
              "199    india\n",
              "Name: Location, dtype: object"
            ]
          },
          "execution_count": 5,
          "metadata": {},
          "output_type": "execute_result"
        }
      ],
      "source": [
        "df['Location'].apply(lambda x: x.split(',')[2].lower().strip())"
      ],
      "id": "pTAZv9X5R_oV"
    },
    {
      "cell_type": "code",
      "execution_count": null,
      "metadata": {
        "id": "A9h9UaXMR_oW",
        "outputId": "a175ccc2-8eed-4514-f77d-a63a601f7566"
      },
      "outputs": [
        {
          "data": {
            "text/html": [
              "<div>\n",
              "<style scoped>\n",
              "    .dataframe tbody tr th:only-of-type {\n",
              "        vertical-align: middle;\n",
              "    }\n",
              "\n",
              "    .dataframe tbody tr th {\n",
              "        vertical-align: top;\n",
              "    }\n",
              "\n",
              "    .dataframe thead th {\n",
              "        text-align: right;\n",
              "    }\n",
              "</style>\n",
              "<table border=\"1\" class=\"dataframe\">\n",
              "  <thead>\n",
              "    <tr style=\"text-align: right;\">\n",
              "      <th></th>\n",
              "      <th>Sr. No.</th>\n",
              "      <th>Location</th>\n",
              "      <th>Sub-Area</th>\n",
              "      <th>Propert Type</th>\n",
              "      <th>Property Area in Sq. Ft.</th>\n",
              "      <th>Price in lakhs</th>\n",
              "      <th>Price in Millions</th>\n",
              "      <th>Company Name</th>\n",
              "      <th>TownShip Name/ Society Name</th>\n",
              "      <th>Total TownShip Area in Acres</th>\n",
              "      <th>ClubHouse</th>\n",
              "      <th>School / University in Township</th>\n",
              "      <th>Hospital in TownShip</th>\n",
              "      <th>Mall in TownShip</th>\n",
              "      <th>Park / Jogging track</th>\n",
              "      <th>Swimming Pool</th>\n",
              "      <th>Gym</th>\n",
              "      <th>Description</th>\n",
              "      <th>City</th>\n",
              "      <th>State</th>\n",
              "      <th>Country</th>\n",
              "    </tr>\n",
              "  </thead>\n",
              "  <tbody>\n",
              "    <tr>\n",
              "      <th>0</th>\n",
              "      <td>1</td>\n",
              "      <td>Pune, Maharashtra, India</td>\n",
              "      <td>Bavdhan</td>\n",
              "      <td>1 BHK</td>\n",
              "      <td>492</td>\n",
              "      <td>39</td>\n",
              "      <td>3.9</td>\n",
              "      <td>Shapoorji Paloonji</td>\n",
              "      <td>Vanaha</td>\n",
              "      <td>1000.0</td>\n",
              "      <td>Yes</td>\n",
              "      <td>Yes</td>\n",
              "      <td>Yes</td>\n",
              "      <td>Yes</td>\n",
              "      <td>Yes</td>\n",
              "      <td>Yes</td>\n",
              "      <td>Yes</td>\n",
              "      <td>Shapoorji Paloonji comunity located in the sub...</td>\n",
              "      <td>pune</td>\n",
              "      <td>maharashtra</td>\n",
              "      <td>india</td>\n",
              "    </tr>\n",
              "    <tr>\n",
              "      <th>1</th>\n",
              "      <td>2</td>\n",
              "      <td>Pune, Maharashtra, India</td>\n",
              "      <td>Bavdhan</td>\n",
              "      <td>2 BHK</td>\n",
              "      <td>774</td>\n",
              "      <td>65</td>\n",
              "      <td>6.5</td>\n",
              "      <td>Shapoorji Paloonji</td>\n",
              "      <td>Vanaha</td>\n",
              "      <td>1000.0</td>\n",
              "      <td>Yes</td>\n",
              "      <td>Yes</td>\n",
              "      <td>Yes</td>\n",
              "      <td>Yes</td>\n",
              "      <td>Yes</td>\n",
              "      <td>Yes</td>\n",
              "      <td>Yes</td>\n",
              "      <td>Vanaha Township located near the lonavala hill...</td>\n",
              "      <td>pune</td>\n",
              "      <td>maharashtra</td>\n",
              "      <td>india</td>\n",
              "    </tr>\n",
              "    <tr>\n",
              "      <th>2</th>\n",
              "      <td>3</td>\n",
              "      <td>Pune, Maharashtra, India</td>\n",
              "      <td>Bavdhan</td>\n",
              "      <td>3 BHK</td>\n",
              "      <td>889</td>\n",
              "      <td>74</td>\n",
              "      <td>7.4</td>\n",
              "      <td>Shapoorji Paloonji</td>\n",
              "      <td>Vanaha</td>\n",
              "      <td>1000.0</td>\n",
              "      <td>Yes</td>\n",
              "      <td>Yes</td>\n",
              "      <td>Yes</td>\n",
              "      <td>Yes</td>\n",
              "      <td>Yes</td>\n",
              "      <td>Yes</td>\n",
              "      <td>Yes</td>\n",
              "      <td>Vanaha Society is suitable for all aged group ...</td>\n",
              "      <td>pune</td>\n",
              "      <td>maharashtra</td>\n",
              "      <td>india</td>\n",
              "    </tr>\n",
              "  </tbody>\n",
              "</table>\n",
              "</div>"
            ],
            "text/plain": [
              "   Sr. No.                  Location Sub-Area Propert Type  \\\n",
              "0        1  Pune, Maharashtra, India  Bavdhan        1 BHK   \n",
              "1        2  Pune, Maharashtra, India  Bavdhan        2 BHK   \n",
              "2        3  Pune, Maharashtra, India  Bavdhan        3 BHK   \n",
              "\n",
              "  Property Area in Sq. Ft. Price in lakhs  Price in Millions  \\\n",
              "0                      492             39                3.9   \n",
              "1                      774             65                6.5   \n",
              "2                      889             74                7.4   \n",
              "\n",
              "         Company Name TownShip Name/ Society Name  \\\n",
              "0  Shapoorji Paloonji                     Vanaha    \n",
              "1  Shapoorji Paloonji                     Vanaha    \n",
              "2  Shapoorji Paloonji                     Vanaha    \n",
              "\n",
              "   Total TownShip Area in Acres ClubHouse School / University in Township   \\\n",
              "0                        1000.0       Yes                              Yes   \n",
              "1                        1000.0       Yes                              Yes   \n",
              "2                        1000.0       Yes                              Yes   \n",
              "\n",
              "  Hospital in TownShip Mall in TownShip Park / Jogging track Swimming Pool  \\\n",
              "0                  Yes              Yes                  Yes           Yes   \n",
              "1                  Yes              Yes                  Yes           Yes   \n",
              "2                  Yes              Yes                  Yes           Yes   \n",
              "\n",
              "   Gym                                        Description  City        State  \\\n",
              "0  Yes  Shapoorji Paloonji comunity located in the sub...  pune  maharashtra   \n",
              "1  Yes  Vanaha Township located near the lonavala hill...  pune  maharashtra   \n",
              "2  Yes  Vanaha Society is suitable for all aged group ...  pune  maharashtra   \n",
              "\n",
              "  Country  \n",
              "0   india  \n",
              "1   india  \n",
              "2   india  "
            ]
          },
          "execution_count": 6,
          "metadata": {},
          "output_type": "execute_result"
        }
      ],
      "source": [
        "# Extracting State and Country separately from the Location Column\n",
        "df['City'] = df['Location'].apply(lambda x: x.split(',')[0].lower().strip())\n",
        "df['State'] = df['Location'].apply(lambda x: x.split(',')[1].lower().strip())\n",
        "df['Country'] = df['Location'].apply(lambda x: x.split(',')[2].lower().strip())\n",
        "df.head(3)"
      ],
      "id": "A9h9UaXMR_oW"
    },
    {
      "cell_type": "markdown",
      "source": [
        "# **Cleaning all the text columns in the data**"
      ],
      "metadata": {
        "id": "bXMwxPvTd10U"
      },
      "id": "bXMwxPvTd10U"
    },
    {
      "cell_type": "code",
      "execution_count": null,
      "metadata": {
        "id": "ZtB9iDktR_ob",
        "outputId": "4a0dda9e-a17f-4047-eae6-26c43406b9bc"
      },
      "outputs": [
        {
          "data": {
            "text/plain": [
              "2bhk           56\n",
              "3BHK           28\n",
              "3bhk           19\n",
              "2BHK           18\n",
              "2 bhk          16\n",
              "3 bhk          10\n",
              "1BHK            9\n",
              "1bhk            7\n",
              "1 BHK           3\n",
              "2bhk            3\n",
              "2 bhk           2\n",
              "3.5 bhk         2\n",
              "3.5bhk          2\n",
              "2.5 bhk         2\n",
              "4 bhk           2\n",
              "2.5 BHK         2\n",
              "3 BHK           2\n",
              "5BHK            2\n",
              "2 BHK           1\n",
              "3bhk            1\n",
              "4.5bhk          1\n",
              "1bhk            1\n",
              "5 bhk           1\n",
              "3+2bhk          1\n",
              "2+2 bhk         1\n",
              "3 BHK Grand     1\n",
              "3 BHK           1\n",
              "4BHK            1\n",
              "6BHK            1\n",
              "shop            1\n",
              "1 bhk           1\n",
              "3  bhk          1\n",
              "4bhk            1\n",
              "Name: Propert Type, dtype: int64"
            ]
          },
          "execution_count": 7,
          "metadata": {},
          "output_type": "execute_result"
        }
      ],
      "source": [
        "df['Propert Type'].value_counts()"
      ],
      "id": "ZtB9iDktR_ob"
    },
    {
      "cell_type": "code",
      "execution_count": null,
      "metadata": {
        "id": "QloLvCg5R_oc"
      },
      "outputs": [],
      "source": [
        "# Regex to match the numbers and create a separate column\n",
        "numbers = re.compile(r\"[-+]?(\\d*\\.\\d+|\\d+)\")\n",
        "df['Property Type Cleaned'] = df['Propert Type'].apply(lambda x: numbers.findall(x)[0]\n",
        "                                                       if len(numbers.findall(x)) > 0 else 0)"
      ],
      "id": "QloLvCg5R_oc"
    },
    {
      "cell_type": "code",
      "execution_count": null,
      "metadata": {
        "id": "xO9Frd_IR_od",
        "outputId": "0868fc05-f670-4960-8039-da78b7c0cde8"
      },
      "outputs": [
        {
          "data": {
            "text/plain": [
              "2      97\n",
              "3      64\n",
              "1      21\n",
              "4       4\n",
              "2.5     4\n",
              "3.5     4\n",
              "5       3\n",
              "6       1\n",
              "0       1\n",
              "4.5     1\n",
              "Name: Property Type Cleaned, dtype: int64"
            ]
          },
          "execution_count": 9,
          "metadata": {},
          "output_type": "execute_result"
        }
      ],
      "source": [
        "df['Property Type Cleaned'].value_counts()"
      ],
      "id": "xO9Frd_IR_od"
    },
    {
      "cell_type": "code",
      "execution_count": null,
      "metadata": {
        "id": "v9t3FA18R_of",
        "outputId": "58be74a5-e551-4060-cb91-934a581f50f8"
      },
      "outputs": [
        {
          "data": {
            "text/plain": [
              "Kharadi                     16\n",
              "handewadi                   11\n",
              "BT Kawade RD                10\n",
              "Hinjewadi                    9\n",
              "Ravet                        9\n",
              "wadgaon sheri                9\n",
              "hadapsar                     8\n",
              "NIBM                         8\n",
              "BANER                        7\n",
              "pisoli                       6\n",
              "kiwale                       6\n",
              "vimannagar                   6\n",
              "Akurdi                       6\n",
              "Susgaon                      6\n",
              "bavdhan budruk               6\n",
              "bavdhan                      6\n",
              "Karvanagar                   5\n",
              "manjri                       5\n",
              "Mahalunge                    5\n",
              "Mundhwa                      5\n",
              "dhanori                      4\n",
              "Bavdhan                      4\n",
              "mahalunge                    4\n",
              "Balewadi                     4\n",
              "tathawade                    4\n",
              "KirkatWadi Sinhagad Road     3\n",
              "baner                        3\n",
              "Keshav Nagar                 3\n",
              "ravet                        3\n",
              "Undri                        2\n",
              "mohammadwadi                 2\n",
              "Koregaon Park                2\n",
              "Baner                        2\n",
              "lonavala                     2\n",
              "magarpatta                   2\n",
              "kayani nagar                 2\n",
              "talegoan                     2\n",
              "koregoan                     2\n",
              "pimpri pune                  1\n",
              "Name: Sub-Area, dtype: int64"
            ]
          },
          "execution_count": 10,
          "metadata": {},
          "output_type": "execute_result"
        }
      ],
      "source": [
        "df['Sub-Area'].value_counts()"
      ],
      "id": "v9t3FA18R_of"
    },
    {
      "cell_type": "code",
      "execution_count": null,
      "metadata": {
        "id": "NBaaenyxR_og",
        "outputId": "dfcef791-5d74-4192-a6e2-a6f25e5b4662"
      },
      "outputs": [
        {
          "data": {
            "text/plain": [
              "39"
            ]
          },
          "execution_count": 11,
          "metadata": {},
          "output_type": "execute_result"
        }
      ],
      "source": [
        "# Number of categories before cleaning\n",
        "len(df['Sub-Area'].value_counts())"
      ],
      "id": "NBaaenyxR_og"
    },
    {
      "cell_type": "code",
      "execution_count": null,
      "metadata": {
        "id": "c7rQ540fR_oh"
      },
      "outputs": [],
      "source": [
        "df['Sub-Area Cleaned'] = df['Sub-Area'].apply(lambda x: x.lower().strip())"
      ],
      "id": "c7rQ540fR_oh"
    },
    {
      "cell_type": "code",
      "execution_count": null,
      "metadata": {
        "id": "XSvGz9rFR_oi",
        "outputId": "a317bb34-84e5-4cdf-cff8-aac0463e7f70"
      },
      "outputs": [
        {
          "data": {
            "text/plain": [
              "34"
            ]
          },
          "execution_count": 13,
          "metadata": {},
          "output_type": "execute_result"
        }
      ],
      "source": [
        "# Number of categories after cleaning\n",
        "len(df['Sub-Area Cleaned'].value_counts())"
      ],
      "id": "XSvGz9rFR_oi"
    },
    {
      "cell_type": "markdown",
      "source": [
        "# **Company Name**"
      ],
      "metadata": {
        "id": "Jgs9K5Mnd6qz"
      },
      "id": "Jgs9K5Mnd6qz"
    },
    {
      "cell_type": "code",
      "execution_count": null,
      "metadata": {
        "id": "v8i408JwR_ok",
        "outputId": "34f3871d-1e10-483b-a323-fa108add0979"
      },
      "outputs": [
        {
          "data": {
            "text/plain": [
              "37"
            ]
          },
          "execution_count": 14,
          "metadata": {},
          "output_type": "execute_result"
        }
      ],
      "source": [
        "# Number of categories before cleaning\n",
        "len(df['Company Name'].value_counts())"
      ],
      "id": "v8i408JwR_ok"
    },
    {
      "cell_type": "code",
      "execution_count": null,
      "metadata": {
        "id": "1C0hDOMwR_ol"
      },
      "outputs": [],
      "source": [
        "df['Company Name Cleaned'] = df['Company Name'].apply(lambda x: x.lower().strip())"
      ],
      "id": "1C0hDOMwR_ol"
    },
    {
      "cell_type": "code",
      "execution_count": null,
      "metadata": {
        "id": "84yfOkXMR_om",
        "outputId": "cab4f4d2-b9aa-40ad-dd63-73662c61e3b2"
      },
      "outputs": [
        {
          "data": {
            "text/plain": [
              "37"
            ]
          },
          "execution_count": 16,
          "metadata": {},
          "output_type": "execute_result"
        }
      ],
      "source": [
        "len(df['Company Name Cleaned'].value_counts())"
      ],
      "id": "84yfOkXMR_om"
    },
    {
      "cell_type": "markdown",
      "source": [
        "# **TownShip Name/ Society Name**"
      ],
      "metadata": {
        "id": "yuhqPFYKd-F_"
      },
      "id": "yuhqPFYKd-F_"
    },
    {
      "cell_type": "code",
      "execution_count": null,
      "metadata": {
        "id": "5hAbgi1LR_op",
        "outputId": "e34daa8d-0d04-4900-ed75-169396dbb163"
      },
      "outputs": [
        {
          "data": {
            "text/plain": [
              "54"
            ]
          },
          "execution_count": 17,
          "metadata": {},
          "output_type": "execute_result"
        }
      ],
      "source": [
        "# Number of categories before cleaning\n",
        "len(df['TownShip Name/ Society Name'].value_counts())"
      ],
      "id": "5hAbgi1LR_op"
    },
    {
      "cell_type": "code",
      "execution_count": null,
      "metadata": {
        "id": "rhvOsQcSR_oq"
      },
      "outputs": [],
      "source": [
        "df['TownShip Name/ Society Name Cleaned'] = df['TownShip Name/ Society Name'].apply(lambda x: x.lower().strip())"
      ],
      "id": "rhvOsQcSR_oq"
    },
    {
      "cell_type": "code",
      "execution_count": null,
      "metadata": {
        "id": "EOAT2Ws5R_os",
        "outputId": "5bddd51a-b6b0-45a4-8e5f-690ccabdb85f"
      },
      "outputs": [
        {
          "data": {
            "text/plain": [
              "54"
            ]
          },
          "execution_count": 19,
          "metadata": {},
          "output_type": "execute_result"
        }
      ],
      "source": [
        "len(df['TownShip Name/ Society Name Cleaned'].value_counts())"
      ],
      "id": "EOAT2Ws5R_os"
    },
    {
      "cell_type": "markdown",
      "source": [
        "# **Description**"
      ],
      "metadata": {
        "id": "HFiP-xDMeBiL"
      },
      "id": "HFiP-xDMeBiL"
    },
    {
      "cell_type": "markdown",
      "source": [
        "# **Encoding Binary Features**"
      ],
      "metadata": {
        "id": "-vi7VsQDeE0N"
      },
      "id": "-vi7VsQDeE0N"
    },
    {
      "cell_type": "code",
      "execution_count": null,
      "metadata": {
        "id": "XpVH_1i9R_pJ",
        "outputId": "41e88248-93d5-4583-f37e-a131ac98a91c"
      },
      "outputs": [
        {
          "data": {
            "text/plain": [
              "[]"
            ]
          },
          "execution_count": 24,
          "metadata": {},
          "output_type": "execute_result"
        }
      ],
      "source": [
        "numbers.findall(str(\"shot/tea\"))"
      ],
      "id": "XpVH_1i9R_pJ"
    },
    {
      "cell_type": "code",
      "execution_count": null,
      "metadata": {
        "id": "HgOu6V5yR_pL"
      },
      "outputs": [],
      "source": [
        "def avg_property_area(x):\n",
        "    x = numbers.findall(x)\n",
        "    if len(x) == 1:\n",
        "        return np.float(x[0])\n",
        "    elif len(x) == 2:\n",
        "        return (np.float(x[0])+np.float(x[1]))/2\n",
        "    else:\n",
        "        return -99\n",
        "\n",
        "numbers = re.compile(r\"[-+]?(\\d*\\.\\d+|\\d+)\")\n",
        "df['Property Area in Sq. Ft. Cleaned'] = df['Property Area in Sq. Ft.'].apply(lambda x: avg_property_area(str(x)))"
      ],
      "id": "HgOu6V5yR_pL"
    },
    {
      "cell_type": "code",
      "execution_count": null,
      "metadata": {
        "id": "rKzFcPT5R_pM",
        "outputId": "76213d7c-c563-4366-a66e-bd7560a190bb"
      },
      "outputs": [
        {
          "data": {
            "text/html": [
              "<div>\n",
              "<style scoped>\n",
              "    .dataframe tbody tr th:only-of-type {\n",
              "        vertical-align: middle;\n",
              "    }\n",
              "\n",
              "    .dataframe tbody tr th {\n",
              "        vertical-align: top;\n",
              "    }\n",
              "\n",
              "    .dataframe thead th {\n",
              "        text-align: right;\n",
              "    }\n",
              "</style>\n",
              "<table border=\"1\" class=\"dataframe\">\n",
              "  <thead>\n",
              "    <tr style=\"text-align: right;\">\n",
              "      <th></th>\n",
              "      <th>Property Area in Sq. Ft.</th>\n",
              "      <th>Property Area in Sq. Ft. Cleaned</th>\n",
              "    </tr>\n",
              "  </thead>\n",
              "  <tbody>\n",
              "    <tr>\n",
              "      <th>44</th>\n",
              "      <td>581</td>\n",
              "      <td>581.0</td>\n",
              "    </tr>\n",
              "    <tr>\n",
              "      <th>137</th>\n",
              "      <td>904</td>\n",
              "      <td>904.0</td>\n",
              "    </tr>\n",
              "    <tr>\n",
              "      <th>10</th>\n",
              "      <td>1644</td>\n",
              "      <td>1644.0</td>\n",
              "    </tr>\n",
              "    <tr>\n",
              "      <th>98</th>\n",
              "      <td>575</td>\n",
              "      <td>575.0</td>\n",
              "    </tr>\n",
              "    <tr>\n",
              "      <th>190</th>\n",
              "      <td>665</td>\n",
              "      <td>665.0</td>\n",
              "    </tr>\n",
              "  </tbody>\n",
              "</table>\n",
              "</div>"
            ],
            "text/plain": [
              "    Property Area in Sq. Ft.  Property Area in Sq. Ft. Cleaned\n",
              "44                       581                             581.0\n",
              "137                      904                             904.0\n",
              "10                      1644                            1644.0\n",
              "98                       575                             575.0\n",
              "190                      665                             665.0"
            ]
          },
          "execution_count": 26,
          "metadata": {},
          "output_type": "execute_result"
        }
      ],
      "source": [
        "df[['Property Area in Sq. Ft.','Property Area in Sq. Ft. Cleaned']].sample(5)"
      ],
      "id": "rKzFcPT5R_pM"
    },
    {
      "cell_type": "markdown",
      "metadata": {
        "id": "R18TNLwvR_pN"
      },
      "source": [
        "##### Price:"
      ],
      "id": "R18TNLwvR_pN"
    },
    {
      "cell_type": "code",
      "execution_count": null,
      "metadata": {
        "id": "pX6m4w75R_pO"
      },
      "outputs": [],
      "source": [
        "numbers = re.compile(r\"[-+]?(\\d*\\.\\d+|\\d+)\")\n",
        "df['Price in lakhs Cleaned'] = (df['Price in lakhs'].apply(lambda x: np.float(numbers.findall(str(x))[0])\n",
        "                                                           if len(numbers.findall(str(x)))>0 else np.nan ))"
      ],
      "id": "pX6m4w75R_pO"
    },
    {
      "cell_type": "code",
      "execution_count": null,
      "metadata": {
        "id": "MB2wvWBoR_pP",
        "outputId": "a292d786-9142-439f-edaf-78c2cad9ab4d"
      },
      "outputs": [
        {
          "data": {
            "text/html": [
              "<div>\n",
              "<style scoped>\n",
              "    .dataframe tbody tr th:only-of-type {\n",
              "        vertical-align: middle;\n",
              "    }\n",
              "\n",
              "    .dataframe tbody tr th {\n",
              "        vertical-align: top;\n",
              "    }\n",
              "\n",
              "    .dataframe thead th {\n",
              "        text-align: right;\n",
              "    }\n",
              "</style>\n",
              "<table border=\"1\" class=\"dataframe\">\n",
              "  <thead>\n",
              "    <tr style=\"text-align: right;\">\n",
              "      <th></th>\n",
              "      <th>Price in lakhs</th>\n",
              "      <th>Price in lakhs Cleaned</th>\n",
              "    </tr>\n",
              "  </thead>\n",
              "  <tbody>\n",
              "    <tr>\n",
              "      <th>191</th>\n",
              "      <td>13.19</td>\n",
              "      <td>13.19</td>\n",
              "    </tr>\n",
              "    <tr>\n",
              "      <th>98</th>\n",
              "      <td>65</td>\n",
              "      <td>65.00</td>\n",
              "    </tr>\n",
              "    <tr>\n",
              "      <th>106</th>\n",
              "      <td>43.2</td>\n",
              "      <td>43.20</td>\n",
              "    </tr>\n",
              "    <tr>\n",
              "      <th>13</th>\n",
              "      <td>58</td>\n",
              "      <td>58.00</td>\n",
              "    </tr>\n",
              "    <tr>\n",
              "      <th>99</th>\n",
              "      <td>84</td>\n",
              "      <td>84.00</td>\n",
              "    </tr>\n",
              "  </tbody>\n",
              "</table>\n",
              "</div>"
            ],
            "text/plain": [
              "    Price in lakhs  Price in lakhs Cleaned\n",
              "191          13.19                   13.19\n",
              "98              65                   65.00\n",
              "106           43.2                   43.20\n",
              "13              58                   58.00\n",
              "99              84                   84.00"
            ]
          },
          "execution_count": 28,
          "metadata": {},
          "output_type": "execute_result"
        }
      ],
      "source": [
        "df[['Price in lakhs','Price in lakhs Cleaned']].sample(5)"
      ],
      "id": "MB2wvWBoR_pP"
    },
    {
      "cell_type": "code",
      "execution_count": null,
      "metadata": {
        "id": "r4o3GqsMR_pQ",
        "outputId": "6d8520ce-63aa-43e9-ba76-7e10be16ef5b"
      },
      "outputs": [
        {
          "data": {
            "text/html": [
              "<div>\n",
              "<style scoped>\n",
              "    .dataframe tbody tr th:only-of-type {\n",
              "        vertical-align: middle;\n",
              "    }\n",
              "\n",
              "    .dataframe tbody tr th {\n",
              "        vertical-align: top;\n",
              "    }\n",
              "\n",
              "    .dataframe thead th {\n",
              "        text-align: right;\n",
              "    }\n",
              "</style>\n",
              "<table border=\"1\" class=\"dataframe\">\n",
              "  <thead>\n",
              "    <tr style=\"text-align: right;\">\n",
              "      <th></th>\n",
              "      <th>Sr. No.</th>\n",
              "      <th>Location</th>\n",
              "      <th>Sub-Area</th>\n",
              "      <th>Propert Type</th>\n",
              "      <th>Property Area in Sq. Ft.</th>\n",
              "      <th>Price in lakhs</th>\n",
              "      <th>Price in Millions</th>\n",
              "      <th>Company Name</th>\n",
              "      <th>TownShip Name/ Society Name</th>\n",
              "      <th>Total TownShip Area in Acres</th>\n",
              "      <th>ClubHouse</th>\n",
              "      <th>School / University in Township</th>\n",
              "      <th>Hospital in TownShip</th>\n",
              "      <th>Mall in TownShip</th>\n",
              "      <th>Park / Jogging track</th>\n",
              "      <th>Swimming Pool</th>\n",
              "      <th>Gym</th>\n",
              "      <th>Description</th>\n",
              "      <th>City</th>\n",
              "      <th>State</th>\n",
              "      <th>Country</th>\n",
              "      <th>Property Type Cleaned</th>\n",
              "      <th>Sub-Area Cleaned</th>\n",
              "      <th>Company Name Cleaned</th>\n",
              "      <th>TownShip Name/ Society Name Cleaned</th>\n",
              "      <th>Description Cleaned</th>\n",
              "      <th>ClubHouse Cleaned</th>\n",
              "      <th>School / University in Township Cleaned</th>\n",
              "      <th>Hospital in TownShip Cleaned</th>\n",
              "      <th>Mall in TownShip Cleaned</th>\n",
              "      <th>Park / Jogging track Cleaned</th>\n",
              "      <th>Swimming Pool Cleaned</th>\n",
              "      <th>Gym Cleaned</th>\n",
              "      <th>Property Area in Sq. Ft. Cleaned</th>\n",
              "      <th>Price in lakhs Cleaned</th>\n",
              "    </tr>\n",
              "  </thead>\n",
              "  <tbody>\n",
              "    <tr>\n",
              "      <th>0</th>\n",
              "      <td>1</td>\n",
              "      <td>Pune, Maharashtra, India</td>\n",
              "      <td>Bavdhan</td>\n",
              "      <td>1 BHK</td>\n",
              "      <td>492</td>\n",
              "      <td>39</td>\n",
              "      <td>3.9</td>\n",
              "      <td>Shapoorji Paloonji</td>\n",
              "      <td>Vanaha</td>\n",
              "      <td>1000.0</td>\n",
              "      <td>Yes</td>\n",
              "      <td>Yes</td>\n",
              "      <td>Yes</td>\n",
              "      <td>Yes</td>\n",
              "      <td>Yes</td>\n",
              "      <td>Yes</td>\n",
              "      <td>Yes</td>\n",
              "      <td>Shapoorji Paloonji comunity located in the sub...</td>\n",
              "      <td>pune</td>\n",
              "      <td>maharashtra</td>\n",
              "      <td>india</td>\n",
              "      <td>1</td>\n",
              "      <td>bavdhan</td>\n",
              "      <td>shapoorji paloonji</td>\n",
              "      <td>vanaha</td>\n",
              "      <td>shapoorji paloonji comunity located in the sub...</td>\n",
              "      <td>1</td>\n",
              "      <td>1</td>\n",
              "      <td>1</td>\n",
              "      <td>1</td>\n",
              "      <td>1</td>\n",
              "      <td>1</td>\n",
              "      <td>1</td>\n",
              "      <td>492.0</td>\n",
              "      <td>39.0</td>\n",
              "    </tr>\n",
              "    <tr>\n",
              "      <th>1</th>\n",
              "      <td>2</td>\n",
              "      <td>Pune, Maharashtra, India</td>\n",
              "      <td>Bavdhan</td>\n",
              "      <td>2 BHK</td>\n",
              "      <td>774</td>\n",
              "      <td>65</td>\n",
              "      <td>6.5</td>\n",
              "      <td>Shapoorji Paloonji</td>\n",
              "      <td>Vanaha</td>\n",
              "      <td>1000.0</td>\n",
              "      <td>Yes</td>\n",
              "      <td>Yes</td>\n",
              "      <td>Yes</td>\n",
              "      <td>Yes</td>\n",
              "      <td>Yes</td>\n",
              "      <td>Yes</td>\n",
              "      <td>Yes</td>\n",
              "      <td>Vanaha Township located near the lonavala hill...</td>\n",
              "      <td>pune</td>\n",
              "      <td>maharashtra</td>\n",
              "      <td>india</td>\n",
              "      <td>2</td>\n",
              "      <td>bavdhan</td>\n",
              "      <td>shapoorji paloonji</td>\n",
              "      <td>vanaha</td>\n",
              "      <td>vanaha township located near the lonavala hill...</td>\n",
              "      <td>1</td>\n",
              "      <td>1</td>\n",
              "      <td>1</td>\n",
              "      <td>1</td>\n",
              "      <td>1</td>\n",
              "      <td>1</td>\n",
              "      <td>1</td>\n",
              "      <td>774.0</td>\n",
              "      <td>65.0</td>\n",
              "    </tr>\n",
              "    <tr>\n",
              "      <th>2</th>\n",
              "      <td>3</td>\n",
              "      <td>Pune, Maharashtra, India</td>\n",
              "      <td>Bavdhan</td>\n",
              "      <td>3 BHK</td>\n",
              "      <td>889</td>\n",
              "      <td>74</td>\n",
              "      <td>7.4</td>\n",
              "      <td>Shapoorji Paloonji</td>\n",
              "      <td>Vanaha</td>\n",
              "      <td>1000.0</td>\n",
              "      <td>Yes</td>\n",
              "      <td>Yes</td>\n",
              "      <td>Yes</td>\n",
              "      <td>Yes</td>\n",
              "      <td>Yes</td>\n",
              "      <td>Yes</td>\n",
              "      <td>Yes</td>\n",
              "      <td>Vanaha Society is suitable for all aged group ...</td>\n",
              "      <td>pune</td>\n",
              "      <td>maharashtra</td>\n",
              "      <td>india</td>\n",
              "      <td>3</td>\n",
              "      <td>bavdhan</td>\n",
              "      <td>shapoorji paloonji</td>\n",
              "      <td>vanaha</td>\n",
              "      <td>vanaha society is suitable for all aged group ...</td>\n",
              "      <td>1</td>\n",
              "      <td>1</td>\n",
              "      <td>1</td>\n",
              "      <td>1</td>\n",
              "      <td>1</td>\n",
              "      <td>1</td>\n",
              "      <td>1</td>\n",
              "      <td>889.0</td>\n",
              "      <td>74.0</td>\n",
              "    </tr>\n",
              "    <tr>\n",
              "      <th>3</th>\n",
              "      <td>4</td>\n",
              "      <td>Pune, Maharashtra, India</td>\n",
              "      <td>Bavdhan</td>\n",
              "      <td>3 BHK Grand</td>\n",
              "      <td>1018</td>\n",
              "      <td>89</td>\n",
              "      <td>8.9</td>\n",
              "      <td>Shapoorji Paloonji</td>\n",
              "      <td>Vanaha</td>\n",
              "      <td>1000.0</td>\n",
              "      <td>Yes</td>\n",
              "      <td>Yes</td>\n",
              "      <td>Yes</td>\n",
              "      <td>Yes</td>\n",
              "      <td>Yes</td>\n",
              "      <td>Yes</td>\n",
              "      <td>Yes</td>\n",
              "      <td>Vanaha township are offering 3BHK grand prpoer...</td>\n",
              "      <td>pune</td>\n",
              "      <td>maharashtra</td>\n",
              "      <td>india</td>\n",
              "      <td>3</td>\n",
              "      <td>bavdhan</td>\n",
              "      <td>shapoorji paloonji</td>\n",
              "      <td>vanaha</td>\n",
              "      <td>vanaha township are offering 3bhk grand prpoer...</td>\n",
              "      <td>1</td>\n",
              "      <td>1</td>\n",
              "      <td>1</td>\n",
              "      <td>1</td>\n",
              "      <td>1</td>\n",
              "      <td>1</td>\n",
              "      <td>1</td>\n",
              "      <td>1018.0</td>\n",
              "      <td>89.0</td>\n",
              "    </tr>\n",
              "    <tr>\n",
              "      <th>4</th>\n",
              "      <td>5</td>\n",
              "      <td>Pune, Maharashtra, India</td>\n",
              "      <td>Mahalunge</td>\n",
              "      <td>2BHK</td>\n",
              "      <td>743</td>\n",
              "      <td>74</td>\n",
              "      <td>7.4</td>\n",
              "      <td>Godrej Properties</td>\n",
              "      <td>Godrej Hills retreat</td>\n",
              "      <td>100.0</td>\n",
              "      <td>Yes</td>\n",
              "      <td>Yes</td>\n",
              "      <td>Yes</td>\n",
              "      <td>Yes</td>\n",
              "      <td>Yes</td>\n",
              "      <td>Yes</td>\n",
              "      <td>Yes</td>\n",
              "      <td>The area is a hub of prestigious schools like ...</td>\n",
              "      <td>pune</td>\n",
              "      <td>maharashtra</td>\n",
              "      <td>india</td>\n",
              "      <td>2</td>\n",
              "      <td>mahalunge</td>\n",
              "      <td>godrej properties</td>\n",
              "      <td>godrej hills retreat</td>\n",
              "      <td>the area is a hub of prestigious schools like ...</td>\n",
              "      <td>1</td>\n",
              "      <td>1</td>\n",
              "      <td>1</td>\n",
              "      <td>1</td>\n",
              "      <td>1</td>\n",
              "      <td>1</td>\n",
              "      <td>1</td>\n",
              "      <td>743.0</td>\n",
              "      <td>74.0</td>\n",
              "    </tr>\n",
              "  </tbody>\n",
              "</table>\n",
              "</div>"
            ],
            "text/plain": [
              "   Sr. No.                  Location   Sub-Area Propert Type  \\\n",
              "0        1  Pune, Maharashtra, India    Bavdhan        1 BHK   \n",
              "1        2  Pune, Maharashtra, India    Bavdhan        2 BHK   \n",
              "2        3  Pune, Maharashtra, India    Bavdhan        3 BHK   \n",
              "3        4  Pune, Maharashtra, India    Bavdhan  3 BHK Grand   \n",
              "4        5  Pune, Maharashtra, India  Mahalunge         2BHK   \n",
              "\n",
              "  Property Area in Sq. Ft. Price in lakhs  Price in Millions  \\\n",
              "0                      492             39                3.9   \n",
              "1                      774             65                6.5   \n",
              "2                      889             74                7.4   \n",
              "3                     1018             89                8.9   \n",
              "4                      743             74                7.4   \n",
              "\n",
              "         Company Name TownShip Name/ Society Name  \\\n",
              "0  Shapoorji Paloonji                     Vanaha    \n",
              "1  Shapoorji Paloonji                     Vanaha    \n",
              "2  Shapoorji Paloonji                     Vanaha    \n",
              "3  Shapoorji Paloonji                     Vanaha    \n",
              "4   Godrej Properties        Godrej Hills retreat   \n",
              "\n",
              "   Total TownShip Area in Acres ClubHouse School / University in Township   \\\n",
              "0                        1000.0       Yes                              Yes   \n",
              "1                        1000.0       Yes                              Yes   \n",
              "2                        1000.0       Yes                              Yes   \n",
              "3                        1000.0       Yes                              Yes   \n",
              "4                         100.0       Yes                              Yes   \n",
              "\n",
              "  Hospital in TownShip Mall in TownShip Park / Jogging track Swimming Pool  \\\n",
              "0                  Yes              Yes                  Yes           Yes   \n",
              "1                  Yes              Yes                  Yes           Yes   \n",
              "2                  Yes              Yes                  Yes           Yes   \n",
              "3                  Yes              Yes                  Yes           Yes   \n",
              "4                  Yes              Yes                  Yes           Yes   \n",
              "\n",
              "   Gym                                        Description  City        State  \\\n",
              "0  Yes  Shapoorji Paloonji comunity located in the sub...  pune  maharashtra   \n",
              "1  Yes  Vanaha Township located near the lonavala hill...  pune  maharashtra   \n",
              "2  Yes  Vanaha Society is suitable for all aged group ...  pune  maharashtra   \n",
              "3  Yes  Vanaha township are offering 3BHK grand prpoer...  pune  maharashtra   \n",
              "4  Yes  The area is a hub of prestigious schools like ...  pune  maharashtra   \n",
              "\n",
              "  Country Property Type Cleaned Sub-Area Cleaned Company Name Cleaned  \\\n",
              "0   india                     1          bavdhan   shapoorji paloonji   \n",
              "1   india                     2          bavdhan   shapoorji paloonji   \n",
              "2   india                     3          bavdhan   shapoorji paloonji   \n",
              "3   india                     3          bavdhan   shapoorji paloonji   \n",
              "4   india                     2        mahalunge    godrej properties   \n",
              "\n",
              "  TownShip Name/ Society Name Cleaned  \\\n",
              "0                              vanaha   \n",
              "1                              vanaha   \n",
              "2                              vanaha   \n",
              "3                              vanaha   \n",
              "4                godrej hills retreat   \n",
              "\n",
              "                                 Description Cleaned  ClubHouse Cleaned  \\\n",
              "0  shapoorji paloonji comunity located in the sub...                  1   \n",
              "1  vanaha township located near the lonavala hill...                  1   \n",
              "2  vanaha society is suitable for all aged group ...                  1   \n",
              "3  vanaha township are offering 3bhk grand prpoer...                  1   \n",
              "4  the area is a hub of prestigious schools like ...                  1   \n",
              "\n",
              "   School / University in Township Cleaned  Hospital in TownShip Cleaned  \\\n",
              "0                                        1                             1   \n",
              "1                                        1                             1   \n",
              "2                                        1                             1   \n",
              "3                                        1                             1   \n",
              "4                                        1                             1   \n",
              "\n",
              "   Mall in TownShip Cleaned  Park / Jogging track Cleaned  \\\n",
              "0                         1                             1   \n",
              "1                         1                             1   \n",
              "2                         1                             1   \n",
              "3                         1                             1   \n",
              "4                         1                             1   \n",
              "\n",
              "   Swimming Pool Cleaned  Gym Cleaned  Property Area in Sq. Ft. Cleaned  \\\n",
              "0                      1            1                             492.0   \n",
              "1                      1            1                             774.0   \n",
              "2                      1            1                             889.0   \n",
              "3                      1            1                            1018.0   \n",
              "4                      1            1                             743.0   \n",
              "\n",
              "   Price in lakhs Cleaned  \n",
              "0                    39.0  \n",
              "1                    65.0  \n",
              "2                    74.0  \n",
              "3                    89.0  \n",
              "4                    74.0  "
            ]
          },
          "execution_count": 29,
          "metadata": {},
          "output_type": "execute_result"
        }
      ],
      "source": [
        "df.head()"
      ],
      "id": "r4o3GqsMR_pQ"
    },
    {
      "cell_type": "code",
      "execution_count": null,
      "metadata": {
        "id": "WOdz2ayNR_pR",
        "outputId": "5640d97c-8d3f-45f1-9b6a-460c39cc1fdf"
      },
      "outputs": [
        {
          "name": "stdout",
          "output_type": "stream",
          "text": [
            "<class 'pandas.core.frame.DataFrame'>\n",
            "RangeIndex: 200 entries, 0 to 199\n",
            "Data columns (total 35 columns):\n",
            " #   Column                                   Non-Null Count  Dtype  \n",
            "---  ------                                   --------------  -----  \n",
            " 0   Sr. No.                                  200 non-null    int64  \n",
            " 1   Location                                 200 non-null    object \n",
            " 2   Sub-Area                                 200 non-null    object \n",
            " 3   Propert Type                             200 non-null    object \n",
            " 4   Property Area in Sq. Ft.                 200 non-null    object \n",
            " 5   Price in lakhs                           200 non-null    object \n",
            " 6   Price in Millions                        199 non-null    float64\n",
            " 7   Company Name                             200 non-null    object \n",
            " 8   TownShip Name/ Society Name              200 non-null    object \n",
            " 9   Total TownShip Area in Acres             51 non-null     float64\n",
            " 10  ClubHouse                                200 non-null    object \n",
            " 11  School / University in Township          200 non-null    object \n",
            " 12  Hospital in TownShip                     200 non-null    object \n",
            " 13  Mall in TownShip                         200 non-null    object \n",
            " 14  Park / Jogging track                     200 non-null    object \n",
            " 15  Swimming Pool                            200 non-null    object \n",
            " 16  Gym                                      200 non-null    object \n",
            " 17  Description                              200 non-null    object \n",
            " 18  City                                     200 non-null    object \n",
            " 19  State                                    200 non-null    object \n",
            " 20  Country                                  200 non-null    object \n",
            " 21  Property Type Cleaned                    200 non-null    object \n",
            " 22  Sub-Area Cleaned                         200 non-null    object \n",
            " 23  Company Name Cleaned                     200 non-null    object \n",
            " 24  TownShip Name/ Society Name Cleaned      200 non-null    object \n",
            " 25  Description Cleaned                      200 non-null    object \n",
            " 26  ClubHouse Cleaned                        200 non-null    int64  \n",
            " 27  School / University in Township Cleaned  200 non-null    int64  \n",
            " 28  Hospital in TownShip Cleaned             200 non-null    int64  \n",
            " 29  Mall in TownShip Cleaned                 200 non-null    int64  \n",
            " 30  Park / Jogging track Cleaned             200 non-null    int64  \n",
            " 31  Swimming Pool Cleaned                    200 non-null    int64  \n",
            " 32  Gym Cleaned                              200 non-null    int64  \n",
            " 33  Property Area in Sq. Ft. Cleaned         200 non-null    float64\n",
            " 34  Price in lakhs Cleaned                   199 non-null    float64\n",
            "dtypes: float64(4), int64(8), object(23)\n",
            "memory usage: 54.8+ KB\n"
          ]
        }
      ],
      "source": [
        "df.info()"
      ],
      "id": "WOdz2ayNR_pR"
    },
    {
      "cell_type": "markdown",
      "metadata": {
        "id": "oeBySWTeR_pX"
      },
      "source": [
        "# **Univariate Analysis**"
      ],
      "id": "oeBySWTeR_pX"
    },
    {
      "cell_type": "code",
      "execution_count": null,
      "metadata": {
        "id": "-j136HvXR_pY",
        "outputId": "68d8df18-fab9-41c7-9262-d2b83e066cd8"
      },
      "outputs": [
        {
          "name": "stdout",
          "output_type": "stream",
          "text": [
            "Total Number of Features: 17\n"
          ]
        }
      ],
      "source": [
        "features = df.columns.tolist()[18:]\n",
        "print(\"Total Number of Features: \"+str(len(features)))"
      ],
      "id": "-j136HvXR_pY"
    },
    {
      "cell_type": "code",
      "execution_count": null,
      "metadata": {
        "id": "32off_mnR_pZ",
        "outputId": "1559235e-2cf0-4586-bc2d-de155c144828"
      },
      "outputs": [
        {
          "name": "stdout",
          "output_type": "stream",
          "text": [
            "(200, 17)\n"
          ]
        },
        {
          "data": {
            "text/html": [
              "<div>\n",
              "<style scoped>\n",
              "    .dataframe tbody tr th:only-of-type {\n",
              "        vertical-align: middle;\n",
              "    }\n",
              "\n",
              "    .dataframe tbody tr th {\n",
              "        vertical-align: top;\n",
              "    }\n",
              "\n",
              "    .dataframe thead th {\n",
              "        text-align: right;\n",
              "    }\n",
              "</style>\n",
              "<table border=\"1\" class=\"dataframe\">\n",
              "  <thead>\n",
              "    <tr style=\"text-align: right;\">\n",
              "      <th></th>\n",
              "      <th>City</th>\n",
              "      <th>State</th>\n",
              "      <th>Country</th>\n",
              "      <th>Property Type Cleaned</th>\n",
              "      <th>Sub-Area Cleaned</th>\n",
              "      <th>Company Name Cleaned</th>\n",
              "      <th>TownShip Name/ Society Name Cleaned</th>\n",
              "      <th>Description Cleaned</th>\n",
              "      <th>ClubHouse Cleaned</th>\n",
              "      <th>School / University in Township Cleaned</th>\n",
              "      <th>Hospital in TownShip Cleaned</th>\n",
              "      <th>Mall in TownShip Cleaned</th>\n",
              "      <th>Park / Jogging track Cleaned</th>\n",
              "      <th>Swimming Pool Cleaned</th>\n",
              "      <th>Gym Cleaned</th>\n",
              "      <th>Property Area in Sq. Ft. Cleaned</th>\n",
              "      <th>Price in lakhs Cleaned</th>\n",
              "    </tr>\n",
              "  </thead>\n",
              "  <tbody>\n",
              "    <tr>\n",
              "      <th>0</th>\n",
              "      <td>pune</td>\n",
              "      <td>maharashtra</td>\n",
              "      <td>india</td>\n",
              "      <td>1</td>\n",
              "      <td>bavdhan</td>\n",
              "      <td>shapoorji paloonji</td>\n",
              "      <td>vanaha</td>\n",
              "      <td>shapoorji paloonji comunity located in the sub...</td>\n",
              "      <td>1</td>\n",
              "      <td>1</td>\n",
              "      <td>1</td>\n",
              "      <td>1</td>\n",
              "      <td>1</td>\n",
              "      <td>1</td>\n",
              "      <td>1</td>\n",
              "      <td>492.0</td>\n",
              "      <td>39.0</td>\n",
              "    </tr>\n",
              "    <tr>\n",
              "      <th>1</th>\n",
              "      <td>pune</td>\n",
              "      <td>maharashtra</td>\n",
              "      <td>india</td>\n",
              "      <td>2</td>\n",
              "      <td>bavdhan</td>\n",
              "      <td>shapoorji paloonji</td>\n",
              "      <td>vanaha</td>\n",
              "      <td>vanaha township located near the lonavala hill...</td>\n",
              "      <td>1</td>\n",
              "      <td>1</td>\n",
              "      <td>1</td>\n",
              "      <td>1</td>\n",
              "      <td>1</td>\n",
              "      <td>1</td>\n",
              "      <td>1</td>\n",
              "      <td>774.0</td>\n",
              "      <td>65.0</td>\n",
              "    </tr>\n",
              "    <tr>\n",
              "      <th>2</th>\n",
              "      <td>pune</td>\n",
              "      <td>maharashtra</td>\n",
              "      <td>india</td>\n",
              "      <td>3</td>\n",
              "      <td>bavdhan</td>\n",
              "      <td>shapoorji paloonji</td>\n",
              "      <td>vanaha</td>\n",
              "      <td>vanaha society is suitable for all aged group ...</td>\n",
              "      <td>1</td>\n",
              "      <td>1</td>\n",
              "      <td>1</td>\n",
              "      <td>1</td>\n",
              "      <td>1</td>\n",
              "      <td>1</td>\n",
              "      <td>1</td>\n",
              "      <td>889.0</td>\n",
              "      <td>74.0</td>\n",
              "    </tr>\n",
              "  </tbody>\n",
              "</table>\n",
              "</div>"
            ],
            "text/plain": [
              "   City        State Country Property Type Cleaned Sub-Area Cleaned  \\\n",
              "0  pune  maharashtra   india                     1          bavdhan   \n",
              "1  pune  maharashtra   india                     2          bavdhan   \n",
              "2  pune  maharashtra   india                     3          bavdhan   \n",
              "\n",
              "  Company Name Cleaned TownShip Name/ Society Name Cleaned  \\\n",
              "0   shapoorji paloonji                              vanaha   \n",
              "1   shapoorji paloonji                              vanaha   \n",
              "2   shapoorji paloonji                              vanaha   \n",
              "\n",
              "                                 Description Cleaned  ClubHouse Cleaned  \\\n",
              "0  shapoorji paloonji comunity located in the sub...                  1   \n",
              "1  vanaha township located near the lonavala hill...                  1   \n",
              "2  vanaha society is suitable for all aged group ...                  1   \n",
              "\n",
              "   School / University in Township Cleaned  Hospital in TownShip Cleaned  \\\n",
              "0                                        1                             1   \n",
              "1                                        1                             1   \n",
              "2                                        1                             1   \n",
              "\n",
              "   Mall in TownShip Cleaned  Park / Jogging track Cleaned  \\\n",
              "0                         1                             1   \n",
              "1                         1                             1   \n",
              "2                         1                             1   \n",
              "\n",
              "   Swimming Pool Cleaned  Gym Cleaned  Property Area in Sq. Ft. Cleaned  \\\n",
              "0                      1            1                             492.0   \n",
              "1                      1            1                             774.0   \n",
              "2                      1            1                             889.0   \n",
              "\n",
              "   Price in lakhs Cleaned  \n",
              "0                    39.0  \n",
              "1                    65.0  \n",
              "2                    74.0  "
            ]
          },
          "execution_count": 32,
          "metadata": {},
          "output_type": "execute_result"
        }
      ],
      "source": [
        "df1 = df[features]\n",
        "print(df1.shape)\n",
        "df1.head(3)"
      ],
      "id": "32off_mnR_pZ"
    },
    {
      "cell_type": "markdown",
      "metadata": {
        "id": "yBZmsc73R_pa"
      },
      "source": [
        "# **Distribution of Location and Sub-Area**\n",
        "\n",
        "\n"
      ],
      "id": "yBZmsc73R_pa"
    },
    {
      "cell_type": "code",
      "execution_count": null,
      "metadata": {
        "id": "BCBvudB4R_pc",
        "outputId": "dda3b0f6-ed18-438d-8b27-44f7454f5aa5"
      },
      "outputs": [
        {
          "name": "stdout",
          "output_type": "stream",
          "text": [
            "Unique Number of Cities in the Data: 1\n"
          ]
        },
        {
          "data": {
            "text/html": [
              "<div>\n",
              "<style scoped>\n",
              "    .dataframe tbody tr th:only-of-type {\n",
              "        vertical-align: middle;\n",
              "    }\n",
              "\n",
              "    .dataframe tbody tr th {\n",
              "        vertical-align: top;\n",
              "    }\n",
              "\n",
              "    .dataframe thead th {\n",
              "        text-align: right;\n",
              "    }\n",
              "</style>\n",
              "<table border=\"1\" class=\"dataframe\">\n",
              "  <thead>\n",
              "    <tr style=\"text-align: right;\">\n",
              "      <th></th>\n",
              "      <th>City</th>\n",
              "      <th>Company Name Cleaned</th>\n",
              "    </tr>\n",
              "  </thead>\n",
              "  <tbody>\n",
              "    <tr>\n",
              "      <th>0</th>\n",
              "      <td>pune</td>\n",
              "      <td>200</td>\n",
              "    </tr>\n",
              "  </tbody>\n",
              "</table>\n",
              "</div>"
            ],
            "text/plain": [
              "   City  Company Name Cleaned\n",
              "0  pune                   200"
            ]
          },
          "metadata": {},
          "output_type": "display_data"
        },
        {
          "data": {
            "image/png": "[encoded data removed]",
            "text/plain": [
              "<Figure size 504x360 with 1 Axes>"
            ]
          },
          "metadata": {
            "needs_background": "light"
          },
          "output_type": "display_data"
        }
      ],
      "source": [
        "# Location\n",
        "print(f\"Unique Number of Cities in the Data: {df1.City.nunique()}\")\n",
        "\n",
        "display(df1.groupby('City')['Company Name Cleaned'].count().reset_index())\n",
        "\n",
        "plt.figure(figsize=(7,5))\n",
        "sns.countplot(df1['City'])\n",
        "plt.title(\"Distribution of data by City\",size=15)\n",
        "plt.show()"
      ],
      "id": "BCBvudB4R_pc"
    },
    {
      "cell_type": "code",
      "execution_count": null,
      "metadata": {
        "id": "dGjmyAzpR_pd",
        "outputId": "9b6df998-4e2e-4f8a-bc0e-aac36534a472"
      },
      "outputs": [
        {
          "name": "stdout",
          "output_type": "stream",
          "text": [
            "Unique Number of Sub-Area in the Data: 34\n"
          ]
        },
        {
          "data": {
            "text/html": [
              "<div>\n",
              "<style scoped>\n",
              "    .dataframe tbody tr th:only-of-type {\n",
              "        vertical-align: middle;\n",
              "    }\n",
              "\n",
              "    .dataframe tbody tr th {\n",
              "        vertical-align: top;\n",
              "    }\n",
              "\n",
              "    .dataframe thead th {\n",
              "        text-align: right;\n",
              "    }\n",
              "</style>\n",
              "<table border=\"1\" class=\"dataframe\">\n",
              "  <thead>\n",
              "    <tr style=\"text-align: right;\">\n",
              "      <th></th>\n",
              "      <th>Sub-Area Cleaned</th>\n",
              "      <th>City</th>\n",
              "    </tr>\n",
              "  </thead>\n",
              "  <tbody>\n",
              "    <tr>\n",
              "      <th>13</th>\n",
              "      <td>kharadi</td>\n",
              "      <td>16</td>\n",
              "    </tr>\n",
              "    <tr>\n",
              "      <th>2</th>\n",
              "      <td>baner</td>\n",
              "      <td>12</td>\n",
              "    </tr>\n",
              "    <tr>\n",
              "      <th>27</th>\n",
              "      <td>ravet</td>\n",
              "      <td>12</td>\n",
              "    </tr>\n",
              "    <tr>\n",
              "      <th>8</th>\n",
              "      <td>handewadi</td>\n",
              "      <td>11</td>\n",
              "    </tr>\n",
              "    <tr>\n",
              "      <th>3</th>\n",
              "      <td>bavdhan</td>\n",
              "      <td>10</td>\n",
              "    </tr>\n",
              "    <tr>\n",
              "      <th>5</th>\n",
              "      <td>bt kawade rd</td>\n",
              "      <td>10</td>\n",
              "    </tr>\n",
              "    <tr>\n",
              "      <th>33</th>\n",
              "      <td>wadgaon sheri</td>\n",
              "      <td>9</td>\n",
              "    </tr>\n",
              "    <tr>\n",
              "      <th>9</th>\n",
              "      <td>hinjewadi</td>\n",
              "      <td>9</td>\n",
              "    </tr>\n",
              "    <tr>\n",
              "      <th>20</th>\n",
              "      <td>mahalunge</td>\n",
              "      <td>9</td>\n",
              "    </tr>\n",
              "    <tr>\n",
              "      <th>7</th>\n",
              "      <td>hadapsar</td>\n",
              "      <td>8</td>\n",
              "    </tr>\n",
              "  </tbody>\n",
              "</table>\n",
              "</div>"
            ],
            "text/plain": [
              "   Sub-Area Cleaned  City\n",
              "13          kharadi    16\n",
              "2             baner    12\n",
              "27            ravet    12\n",
              "8         handewadi    11\n",
              "3           bavdhan    10\n",
              "5      bt kawade rd    10\n",
              "33    wadgaon sheri     9\n",
              "9         hinjewadi     9\n",
              "20        mahalunge     9\n",
              "7          hadapsar     8"
            ]
          },
          "metadata": {},
          "output_type": "display_data"
        },
        {
          "data": {
            "image/png": "[encoded data removed]",
            "text/plain": [
              "<Figure size 720x360 with 1 Axes>"
            ]
          },
          "metadata": {
            "needs_background": "light"
          },
          "output_type": "display_data"
        }
      ],
      "source": [
        "# Sub-Area\n",
        "print(f\"Unique Number of Sub-Area in the Data: {df1['Sub-Area Cleaned'].nunique()}\")\n",
        "\n",
        "temp = df1.groupby('Sub-Area Cleaned')['City'].count().reset_index().sort_values(by='City',ascending=False)[:10]\n",
        "display(temp)\n",
        "\n",
        "plt.figure(figsize=(10,5))\n",
        "sns.barplot(x=temp['Sub-Area Cleaned'],y=temp['City'])\n",
        "plt.title(\"Distribution of data by Sub-Area\",size=15)\n",
        "plt.xticks(rotation=45)\n",
        "plt.show()"
      ],
      "id": "dGjmyAzpR_pd"
    },
    {
      "cell_type": "markdown",
      "metadata": {
        "id": "PB8ZZVc2R_pe"
      },
      "source": [
        "# **Distribution of Company and Township**"
      ],
      "id": "PB8ZZVc2R_pe"
    },
    {
      "cell_type": "code",
      "execution_count": null,
      "metadata": {
        "id": "BkkZAsHJR_pf",
        "outputId": "43ce946e-0f06-4b35-ebaa-b77afa8e0fb7"
      },
      "outputs": [
        {
          "name": "stdout",
          "output_type": "stream",
          "text": [
            "Unique Number of Company in the Data: 37\n"
          ]
        },
        {
          "data": {
            "text/html": [
              "<div>\n",
              "<style scoped>\n",
              "    .dataframe tbody tr th:only-of-type {\n",
              "        vertical-align: middle;\n",
              "    }\n",
              "\n",
              "    .dataframe tbody tr th {\n",
              "        vertical-align: top;\n",
              "    }\n",
              "\n",
              "    .dataframe thead th {\n",
              "        text-align: right;\n",
              "    }\n",
              "</style>\n",
              "<table border=\"1\" class=\"dataframe\">\n",
              "  <thead>\n",
              "    <tr style=\"text-align: right;\">\n",
              "      <th></th>\n",
              "      <th>Company Name Cleaned</th>\n",
              "      <th>City</th>\n",
              "    </tr>\n",
              "  </thead>\n",
              "  <tbody>\n",
              "    <tr>\n",
              "      <th>0</th>\n",
              "      <td>mantra properties</td>\n",
              "      <td>29</td>\n",
              "    </tr>\n",
              "    <tr>\n",
              "      <th>1</th>\n",
              "      <td>kundan spaces</td>\n",
              "      <td>14</td>\n",
              "    </tr>\n",
              "    <tr>\n",
              "      <th>2</th>\n",
              "      <td>unique properties</td>\n",
              "      <td>11</td>\n",
              "    </tr>\n",
              "    <tr>\n",
              "      <th>3</th>\n",
              "      <td>shapoorji paloonji</td>\n",
              "      <td>10</td>\n",
              "    </tr>\n",
              "    <tr>\n",
              "      <th>4</th>\n",
              "      <td>jhala group</td>\n",
              "      <td>10</td>\n",
              "    </tr>\n",
              "    <tr>\n",
              "      <th>5</th>\n",
              "      <td>vijaya laxmi creations</td>\n",
              "      <td>9</td>\n",
              "    </tr>\n",
              "    <tr>\n",
              "      <th>6</th>\n",
              "      <td>puraniks</td>\n",
              "      <td>8</td>\n",
              "    </tr>\n",
              "    <tr>\n",
              "      <th>7</th>\n",
              "      <td>ravima ventures</td>\n",
              "      <td>7</td>\n",
              "    </tr>\n",
              "    <tr>\n",
              "      <th>8</th>\n",
              "      <td>lush life</td>\n",
              "      <td>6</td>\n",
              "    </tr>\n",
              "    <tr>\n",
              "      <th>9</th>\n",
              "      <td>vijaya laxmi infrarealtors</td>\n",
              "      <td>6</td>\n",
              "    </tr>\n",
              "  </tbody>\n",
              "</table>\n",
              "</div>"
            ],
            "text/plain": [
              "         Company Name Cleaned  City\n",
              "0           mantra properties    29\n",
              "1               kundan spaces    14\n",
              "2           unique properties    11\n",
              "3          shapoorji paloonji    10\n",
              "4                 jhala group    10\n",
              "5      vijaya laxmi creations     9\n",
              "6                    puraniks     8\n",
              "7             ravima ventures     7\n",
              "8                   lush life     6\n",
              "9  vijaya laxmi infrarealtors     6"
            ]
          },
          "metadata": {},
          "output_type": "display_data"
        },
        {
          "data": {
            "image/png": "[encoded data removed]",
            "text/plain": [
              "<Figure size 1440x360 with 1 Axes>"
            ]
          },
          "metadata": {
            "needs_background": "light"
          },
          "output_type": "display_data"
        }
      ],
      "source": [
        "# Company\n",
        "print(f\"Unique Number of Company in the Data: {df1['Company Name Cleaned'].nunique()}\")\n",
        "\n",
        "display(df1.groupby('Company Name Cleaned')['City'].count().sort_values(ascending=False).reset_index()[:10])\n",
        "\n",
        "plt.figure(figsize=(20,5))\n",
        "sns.countplot(df1['Company Name Cleaned'],\n",
        "              order=df1.groupby('Company Name Cleaned')['City'].count().sort_values(ascending=False).index[:10])\n",
        "plt.title(\"Distribution of data by Company\",size=15)\n",
        "plt.xticks(rotation=45)\n",
        "plt.show()"
      ],
      "id": "BkkZAsHJR_pf"
    },
    {
      "cell_type": "code",
      "execution_count": null,
      "metadata": {
        "id": "V9IWDiY7R_ph",
        "outputId": "2982eebe-906b-4229-c5ad-495fc7e5da02"
      },
      "outputs": [
        {
          "name": "stdout",
          "output_type": "stream",
          "text": [
            "Unique Number of Township/Society in the Data: 54\n"
          ]
        },
        {
          "data": {
            "text/html": [
              "<div>\n",
              "<style scoped>\n",
              "    .dataframe tbody tr th:only-of-type {\n",
              "        vertical-align: middle;\n",
              "    }\n",
              "\n",
              "    .dataframe tbody tr th {\n",
              "        vertical-align: top;\n",
              "    }\n",
              "\n",
              "    .dataframe thead th {\n",
              "        text-align: right;\n",
              "    }\n",
              "</style>\n",
              "<table border=\"1\" class=\"dataframe\">\n",
              "  <thead>\n",
              "    <tr style=\"text-align: right;\">\n",
              "      <th></th>\n",
              "      <th>TownShip Name/ Society Name Cleaned</th>\n",
              "      <th>City</th>\n",
              "    </tr>\n",
              "  </thead>\n",
              "  <tbody>\n",
              "    <tr>\n",
              "      <th>0</th>\n",
              "      <td>mantra 29 gold</td>\n",
              "      <td>13</td>\n",
              "    </tr>\n",
              "    <tr>\n",
              "      <th>1</th>\n",
              "      <td>eternia 2.0</td>\n",
              "      <td>8</td>\n",
              "    </tr>\n",
              "    <tr>\n",
              "      <th>2</th>\n",
              "      <td>newton homes</td>\n",
              "      <td>6</td>\n",
              "    </tr>\n",
              "    <tr>\n",
              "      <th>3</th>\n",
              "      <td>oxy beaumonde</td>\n",
              "      <td>6</td>\n",
              "    </tr>\n",
              "    <tr>\n",
              "      <th>4</th>\n",
              "      <td>parklane urbanjoy</td>\n",
              "      <td>6</td>\n",
              "    </tr>\n",
              "    <tr>\n",
              "      <th>5</th>\n",
              "      <td>presidia</td>\n",
              "      <td>6</td>\n",
              "    </tr>\n",
              "    <tr>\n",
              "      <th>6</th>\n",
              "      <td>satyam serenity</td>\n",
              "      <td>6</td>\n",
              "    </tr>\n",
              "    <tr>\n",
              "      <th>7</th>\n",
              "      <td>k ville</td>\n",
              "      <td>6</td>\n",
              "    </tr>\n",
              "    <tr>\n",
              "      <th>8</th>\n",
              "      <td>satyam shery</td>\n",
              "      <td>6</td>\n",
              "    </tr>\n",
              "    <tr>\n",
              "      <th>9</th>\n",
              "      <td>abitante fiore</td>\n",
              "      <td>6</td>\n",
              "    </tr>\n",
              "  </tbody>\n",
              "</table>\n",
              "</div>"
            ],
            "text/plain": [
              "  TownShip Name/ Society Name Cleaned  City\n",
              "0                      mantra 29 gold    13\n",
              "1                         eternia 2.0     8\n",
              "2                        newton homes     6\n",
              "3                       oxy beaumonde     6\n",
              "4                   parklane urbanjoy     6\n",
              "5                            presidia     6\n",
              "6                     satyam serenity     6\n",
              "7                             k ville     6\n",
              "8                        satyam shery     6\n",
              "9                      abitante fiore     6"
            ]
          },
          "metadata": {},
          "output_type": "display_data"
        },
        {
          "data": {
            "image/png": "[encoded data removed]",
            "text/plain": [
              "<Figure size 1440x360 with 1 Axes>"
            ]
          },
          "metadata": {
            "needs_background": "light"
          },
          "output_type": "display_data"
        }
      ],
      "source": [
        "# Township\n",
        "print(f\"Unique Number of Township/Society in the Data: {df1['TownShip Name/ Society Name Cleaned'].nunique()}\")\n",
        "\n",
        "display(df1.groupby('TownShip Name/ Society Name Cleaned')['City'].count().sort_values(ascending=False)\n",
        "          .reset_index()[:10])\n",
        "\n",
        "plt.figure(figsize=(20,5))\n",
        "sns.countplot(df1['TownShip Name/ Society Name Cleaned'],\n",
        "              order=df1.groupby('TownShip Name/ Society Name Cleaned')['City'].count()\n",
        "                      .sort_values(ascending=False).index[:10])\n",
        "plt.title(\"Distribution of data by Township/Society\",size=15)\n",
        "plt.xticks(rotation=45)\n",
        "plt.show()"
      ],
      "id": "V9IWDiY7R_ph"
    },
    {
      "cell_type": "markdown",
      "metadata": {
        "id": "T9MVQXW9R_pi"
      },
      "source": [
        "# **Distribution of Property Area and Price**"
      ],
      "id": "T9MVQXW9R_pi"
    },
    {
      "cell_type": "code",
      "execution_count": null,
      "metadata": {
        "id": "n7mQ6Dw_R_pj",
        "outputId": "6cf7243e-1cd6-4f54-f22f-c7f56e473426"
      },
      "outputs": [
        {
          "name": "stdout",
          "output_type": "stream",
          "text": [
            "Summary Statistics of Property Area:\n"
          ]
        },
        {
          "data": {
            "text/html": [
              "<div>\n",
              "<style scoped>\n",
              "    .dataframe tbody tr th:only-of-type {\n",
              "        vertical-align: middle;\n",
              "    }\n",
              "\n",
              "    .dataframe tbody tr th {\n",
              "        vertical-align: top;\n",
              "    }\n",
              "\n",
              "    .dataframe thead th {\n",
              "        text-align: right;\n",
              "    }\n",
              "</style>\n",
              "<table border=\"1\" class=\"dataframe\">\n",
              "  <thead>\n",
              "    <tr style=\"text-align: right;\">\n",
              "      <th></th>\n",
              "      <th>Property Area in Sq. Ft. Cleaned</th>\n",
              "    </tr>\n",
              "  </thead>\n",
              "  <tbody>\n",
              "    <tr>\n",
              "      <th>count</th>\n",
              "      <td>200.000000</td>\n",
              "    </tr>\n",
              "    <tr>\n",
              "      <th>mean</th>\n",
              "      <td>894.060000</td>\n",
              "    </tr>\n",
              "    <tr>\n",
              "      <th>std</th>\n",
              "      <td>380.256831</td>\n",
              "    </tr>\n",
              "    <tr>\n",
              "      <th>min</th>\n",
              "      <td>113.000000</td>\n",
              "    </tr>\n",
              "    <tr>\n",
              "      <th>25%</th>\n",
              "      <td>670.000000</td>\n",
              "    </tr>\n",
              "    <tr>\n",
              "      <th>50%</th>\n",
              "      <td>800.500000</td>\n",
              "    </tr>\n",
              "    <tr>\n",
              "      <th>75%</th>\n",
              "      <td>1041.250000</td>\n",
              "    </tr>\n",
              "    <tr>\n",
              "      <th>max</th>\n",
              "      <td>2447.000000</td>\n",
              "    </tr>\n",
              "  </tbody>\n",
              "</table>\n",
              "</div>"
            ],
            "text/plain": [
              "       Property Area in Sq. Ft. Cleaned\n",
              "count                        200.000000\n",
              "mean                         894.060000\n",
              "std                          380.256831\n",
              "min                          113.000000\n",
              "25%                          670.000000\n",
              "50%                          800.500000\n",
              "75%                         1041.250000\n",
              "max                         2447.000000"
            ]
          },
          "metadata": {},
          "output_type": "display_data"
        },
        {
          "data": {
            "image/png": "[encoded data removed]",
            "text/plain": [
              "<Figure size 576x360 with 1 Axes>"
            ]
          },
          "metadata": {
            "needs_background": "light"
          },
          "output_type": "display_data"
        }
      ],
      "source": [
        "print(\"Summary Statistics of Property Area:\")\n",
        "display(df1[['Property Area in Sq. Ft. Cleaned']].describe())\n",
        "\n",
        "plt.figure(figsize=(8,5))\n",
        "plt.hist(df1['Property Area in Sq. Ft. Cleaned'],bins=20)\n",
        "plt.title(\"Distribution of Property Area\",size=15)\n",
        "plt.xticks(rotation=45)\n",
        "plt.show()"
      ],
      "id": "n7mQ6Dw_R_pj"
    },
    {
      "cell_type": "code",
      "execution_count": null,
      "metadata": {
        "id": "wJVAot1uR_pk",
        "outputId": "8e33e6de-739e-42d4-be0d-6baf33c7cc09"
      },
      "outputs": [
        {
          "name": "stdout",
          "output_type": "stream",
          "text": [
            "Summary Statistics of Price:\n"
          ]
        },
        {
          "data": {
            "text/html": [
              "<div>\n",
              "<style scoped>\n",
              "    .dataframe tbody tr th:only-of-type {\n",
              "        vertical-align: middle;\n",
              "    }\n",
              "\n",
              "    .dataframe tbody tr th {\n",
              "        vertical-align: top;\n",
              "    }\n",
              "\n",
              "    .dataframe thead th {\n",
              "        text-align: right;\n",
              "    }\n",
              "</style>\n",
              "<table border=\"1\" class=\"dataframe\">\n",
              "  <thead>\n",
              "    <tr style=\"text-align: right;\">\n",
              "      <th></th>\n",
              "      <th>Price in lakhs Cleaned</th>\n",
              "    </tr>\n",
              "  </thead>\n",
              "  <tbody>\n",
              "    <tr>\n",
              "      <th>count</th>\n",
              "      <td>199.000000</td>\n",
              "    </tr>\n",
              "    <tr>\n",
              "      <th>mean</th>\n",
              "      <td>95.258291</td>\n",
              "    </tr>\n",
              "    <tr>\n",
              "      <th>std</th>\n",
              "      <td>101.869843</td>\n",
              "    </tr>\n",
              "    <tr>\n",
              "      <th>min</th>\n",
              "      <td>13.190000</td>\n",
              "    </tr>\n",
              "    <tr>\n",
              "      <th>25%</th>\n",
              "      <td>51.500000</td>\n",
              "    </tr>\n",
              "    <tr>\n",
              "      <th>50%</th>\n",
              "      <td>70.000000</td>\n",
              "    </tr>\n",
              "    <tr>\n",
              "      <th>75%</th>\n",
              "      <td>99.435000</td>\n",
              "    </tr>\n",
              "    <tr>\n",
              "      <th>max</th>\n",
              "      <td>930.000000</td>\n",
              "    </tr>\n",
              "  </tbody>\n",
              "</table>\n",
              "</div>"
            ],
            "text/plain": [
              "       Price in lakhs Cleaned\n",
              "count              199.000000\n",
              "mean                95.258291\n",
              "std                101.869843\n",
              "min                 13.190000\n",
              "25%                 51.500000\n",
              "50%                 70.000000\n",
              "75%                 99.435000\n",
              "max                930.000000"
            ]
          },
          "metadata": {},
          "output_type": "display_data"
        },
        {
          "data": {
            "image/png": "[encoded data removed]",
            "text/plain": [
              "<Figure size 576x360 with 1 Axes>"
            ]
          },
          "metadata": {
            "needs_background": "light"
          },
          "output_type": "display_data"
        }
      ],
      "source": [
        "print(\"Summary Statistics of Price:\")\n",
        "display(df1[['Price in lakhs Cleaned']].describe())\n",
        "\n",
        "plt.figure(figsize=(8,5))\n",
        "plt.hist(df1['Price in lakhs Cleaned'],bins=20)\n",
        "plt.title(\"Distribution of Price\",size=15)\n",
        "plt.xticks(rotation=45)\n",
        "plt.show()"
      ],
      "id": "wJVAot1uR_pk"
    },
    {
      "cell_type": "code",
      "execution_count": null,
      "metadata": {
        "id": "zS2HtAtAR_pl",
        "outputId": "b5caa21e-99d6-477d-9e5a-b7d2f57dc3cb"
      },
      "outputs": [
        {
          "data": {
            "text/html": [
              "<div>\n",
              "<style scoped>\n",
              "    .dataframe tbody tr th:only-of-type {\n",
              "        vertical-align: middle;\n",
              "    }\n",
              "\n",
              "    .dataframe tbody tr th {\n",
              "        vertical-align: top;\n",
              "    }\n",
              "\n",
              "    .dataframe thead th {\n",
              "        text-align: right;\n",
              "    }\n",
              "</style>\n",
              "<table border=\"1\" class=\"dataframe\">\n",
              "  <thead>\n",
              "    <tr style=\"text-align: right;\">\n",
              "      <th></th>\n",
              "      <th>City</th>\n",
              "      <th>State</th>\n",
              "      <th>Country</th>\n",
              "      <th>Property Type Cleaned</th>\n",
              "      <th>Sub-Area Cleaned</th>\n",
              "      <th>Company Name Cleaned</th>\n",
              "      <th>TownShip Name/ Society Name Cleaned</th>\n",
              "      <th>Description Cleaned</th>\n",
              "      <th>ClubHouse Cleaned</th>\n",
              "      <th>School / University in Township Cleaned</th>\n",
              "      <th>Hospital in TownShip Cleaned</th>\n",
              "      <th>Mall in TownShip Cleaned</th>\n",
              "      <th>Park / Jogging track Cleaned</th>\n",
              "      <th>Swimming Pool Cleaned</th>\n",
              "      <th>Gym Cleaned</th>\n",
              "      <th>Property Area in Sq. Ft. Cleaned</th>\n",
              "      <th>Price in lakhs Cleaned</th>\n",
              "    </tr>\n",
              "  </thead>\n",
              "  <tbody>\n",
              "    <tr>\n",
              "      <th>0</th>\n",
              "      <td>pune</td>\n",
              "      <td>maharashtra</td>\n",
              "      <td>india</td>\n",
              "      <td>1</td>\n",
              "      <td>bavdhan</td>\n",
              "      <td>shapoorji paloonji</td>\n",
              "      <td>vanaha</td>\n",
              "      <td>shapoorji paloonji comunity located in the sub...</td>\n",
              "      <td>1</td>\n",
              "      <td>1</td>\n",
              "      <td>1</td>\n",
              "      <td>1</td>\n",
              "      <td>1</td>\n",
              "      <td>1</td>\n",
              "      <td>1</td>\n",
              "      <td>492.0</td>\n",
              "      <td>39.0</td>\n",
              "    </tr>\n",
              "    <tr>\n",
              "      <th>1</th>\n",
              "      <td>pune</td>\n",
              "      <td>maharashtra</td>\n",
              "      <td>india</td>\n",
              "      <td>2</td>\n",
              "      <td>bavdhan</td>\n",
              "      <td>shapoorji paloonji</td>\n",
              "      <td>vanaha</td>\n",
              "      <td>vanaha township located near the lonavala hill...</td>\n",
              "      <td>1</td>\n",
              "      <td>1</td>\n",
              "      <td>1</td>\n",
              "      <td>1</td>\n",
              "      <td>1</td>\n",
              "      <td>1</td>\n",
              "      <td>1</td>\n",
              "      <td>774.0</td>\n",
              "      <td>65.0</td>\n",
              "    </tr>\n",
              "    <tr>\n",
              "      <th>2</th>\n",
              "      <td>pune</td>\n",
              "      <td>maharashtra</td>\n",
              "      <td>india</td>\n",
              "      <td>3</td>\n",
              "      <td>bavdhan</td>\n",
              "      <td>shapoorji paloonji</td>\n",
              "      <td>vanaha</td>\n",
              "      <td>vanaha society is suitable for all aged group ...</td>\n",
              "      <td>1</td>\n",
              "      <td>1</td>\n",
              "      <td>1</td>\n",
              "      <td>1</td>\n",
              "      <td>1</td>\n",
              "      <td>1</td>\n",
              "      <td>1</td>\n",
              "      <td>889.0</td>\n",
              "      <td>74.0</td>\n",
              "    </tr>\n",
              "    <tr>\n",
              "      <th>3</th>\n",
              "      <td>pune</td>\n",
              "      <td>maharashtra</td>\n",
              "      <td>india</td>\n",
              "      <td>3</td>\n",
              "      <td>bavdhan</td>\n",
              "      <td>shapoorji paloonji</td>\n",
              "      <td>vanaha</td>\n",
              "      <td>vanaha township are offering 3bhk grand prpoer...</td>\n",
              "      <td>1</td>\n",
              "      <td>1</td>\n",
              "      <td>1</td>\n",
              "      <td>1</td>\n",
              "      <td>1</td>\n",
              "      <td>1</td>\n",
              "      <td>1</td>\n",
              "      <td>1018.0</td>\n",
              "      <td>89.0</td>\n",
              "    </tr>\n",
              "    <tr>\n",
              "      <th>4</th>\n",
              "      <td>pune</td>\n",
              "      <td>maharashtra</td>\n",
              "      <td>india</td>\n",
              "      <td>2</td>\n",
              "      <td>mahalunge</td>\n",
              "      <td>godrej properties</td>\n",
              "      <td>godrej hills retreat</td>\n",
              "      <td>the area is a hub of prestigious schools like ...</td>\n",
              "      <td>1</td>\n",
              "      <td>1</td>\n",
              "      <td>1</td>\n",
              "      <td>1</td>\n",
              "      <td>1</td>\n",
              "      <td>1</td>\n",
              "      <td>1</td>\n",
              "      <td>743.0</td>\n",
              "      <td>74.0</td>\n",
              "    </tr>\n",
              "  </tbody>\n",
              "</table>\n",
              "</div>"
            ],
            "text/plain": [
              "   City        State Country Property Type Cleaned Sub-Area Cleaned  \\\n",
              "0  pune  maharashtra   india                     1          bavdhan   \n",
              "1  pune  maharashtra   india                     2          bavdhan   \n",
              "2  pune  maharashtra   india                     3          bavdhan   \n",
              "3  pune  maharashtra   india                     3          bavdhan   \n",
              "4  pune  maharashtra   india                     2        mahalunge   \n",
              "\n",
              "  Company Name Cleaned TownShip Name/ Society Name Cleaned  \\\n",
              "0   shapoorji paloonji                              vanaha   \n",
              "1   shapoorji paloonji                              vanaha   \n",
              "2   shapoorji paloonji                              vanaha   \n",
              "3   shapoorji paloonji                              vanaha   \n",
              "4    godrej properties                godrej hills retreat   \n",
              "\n",
              "                                 Description Cleaned  ClubHouse Cleaned  \\\n",
              "0  shapoorji paloonji comunity located in the sub...                  1   \n",
              "1  vanaha township located near the lonavala hill...                  1   \n",
              "2  vanaha society is suitable for all aged group ...                  1   \n",
              "3  vanaha township are offering 3bhk grand prpoer...                  1   \n",
              "4  the area is a hub of prestigious schools like ...                  1   \n",
              "\n",
              "   School / University in Township Cleaned  Hospital in TownShip Cleaned  \\\n",
              "0                                        1                             1   \n",
              "1                                        1                             1   \n",
              "2                                        1                             1   \n",
              "3                                        1                             1   \n",
              "4                                        1                             1   \n",
              "\n",
              "   Mall in TownShip Cleaned  Park / Jogging track Cleaned  \\\n",
              "0                         1                             1   \n",
              "1                         1                             1   \n",
              "2                         1                             1   \n",
              "3                         1                             1   \n",
              "4                         1                             1   \n",
              "\n",
              "   Swimming Pool Cleaned  Gym Cleaned  Property Area in Sq. Ft. Cleaned  \\\n",
              "0                      1            1                             492.0   \n",
              "1                      1            1                             774.0   \n",
              "2                      1            1                             889.0   \n",
              "3                      1            1                            1018.0   \n",
              "4                      1            1                             743.0   \n",
              "\n",
              "   Price in lakhs Cleaned  \n",
              "0                    39.0  \n",
              "1                    65.0  \n",
              "2                    74.0  \n",
              "3                    89.0  \n",
              "4                    74.0  "
            ]
          },
          "execution_count": 39,
          "metadata": {},
          "output_type": "execute_result"
        }
      ],
      "source": [
        "df1.head()"
      ],
      "id": "zS2HtAtAR_pl"
    },
    {
      "cell_type": "markdown",
      "metadata": {
        "id": "Y9ROhie-R_pn"
      },
      "source": [
        "# **Multivariate Analysis**"
      ],
      "id": "Y9ROhie-R_pn"
    },
    {
      "cell_type": "code",
      "execution_count": null,
      "metadata": {
        "id": "cmXLhEjXR_pq",
        "outputId": "f990d525-8121-4f99-8bd7-b7c9157d8fa3"
      },
      "outputs": [
        {
          "data": {
            "text/html": [
              "<div>\n",
              "<style scoped>\n",
              "    .dataframe tbody tr th:only-of-type {\n",
              "        vertical-align: middle;\n",
              "    }\n",
              "\n",
              "    .dataframe tbody tr th {\n",
              "        vertical-align: top;\n",
              "    }\n",
              "\n",
              "    .dataframe thead th {\n",
              "        text-align: right;\n",
              "    }\n",
              "</style>\n",
              "<table border=\"1\" class=\"dataframe\">\n",
              "  <thead>\n",
              "    <tr style=\"text-align: right;\">\n",
              "      <th></th>\n",
              "      <th>Property Area in Sq. Ft. Cleaned</th>\n",
              "      <th>Price in lakhs Cleaned</th>\n",
              "    </tr>\n",
              "  </thead>\n",
              "  <tbody>\n",
              "    <tr>\n",
              "      <th>count</th>\n",
              "      <td>200.000000</td>\n",
              "      <td>199.000000</td>\n",
              "    </tr>\n",
              "    <tr>\n",
              "      <th>mean</th>\n",
              "      <td>894.060000</td>\n",
              "      <td>95.258291</td>\n",
              "    </tr>\n",
              "    <tr>\n",
              "      <th>std</th>\n",
              "      <td>380.256831</td>\n",
              "      <td>101.869843</td>\n",
              "    </tr>\n",
              "    <tr>\n",
              "      <th>min</th>\n",
              "      <td>113.000000</td>\n",
              "      <td>13.190000</td>\n",
              "    </tr>\n",
              "    <tr>\n",
              "      <th>25%</th>\n",
              "      <td>670.000000</td>\n",
              "      <td>51.500000</td>\n",
              "    </tr>\n",
              "    <tr>\n",
              "      <th>50%</th>\n",
              "      <td>800.500000</td>\n",
              "      <td>70.000000</td>\n",
              "    </tr>\n",
              "    <tr>\n",
              "      <th>75%</th>\n",
              "      <td>1041.250000</td>\n",
              "      <td>99.435000</td>\n",
              "    </tr>\n",
              "    <tr>\n",
              "      <th>max</th>\n",
              "      <td>2447.000000</td>\n",
              "      <td>930.000000</td>\n",
              "    </tr>\n",
              "  </tbody>\n",
              "</table>\n",
              "</div>"
            ],
            "text/plain": [
              "       Property Area in Sq. Ft. Cleaned  Price in lakhs Cleaned\n",
              "count                        200.000000              199.000000\n",
              "mean                         894.060000               95.258291\n",
              "std                          380.256831              101.869843\n",
              "min                          113.000000               13.190000\n",
              "25%                          670.000000               51.500000\n",
              "50%                          800.500000               70.000000\n",
              "75%                         1041.250000               99.435000\n",
              "max                         2447.000000              930.000000"
            ]
          },
          "metadata": {},
          "output_type": "display_data"
        },
        {
          "name": "stdout",
          "output_type": "stream",
          "text": [
            "Property Area in Sq. Ft. Cleaned    0.493096\n",
            "Price in lakhs Cleaned              1.000000\n",
            "Name: Price in lakhs Cleaned, dtype: float64\n"
          ]
        },
        {
          "data": {
            "image/png": "[encoded data removed]",
            "text/plain": [
              "<Figure size 576x360 with 1 Axes>"
            ]
          },
          "metadata": {
            "needs_background": "light"
          },
          "output_type": "display_data"
        }
      ],
      "source": [
        "# Property Area vs Price\n",
        "temp = df1[['Property Area in Sq. Ft. Cleaned','Price in lakhs Cleaned']]\n",
        "\n",
        "display(temp.describe())\n",
        "\n",
        "corr_matrix = temp.corr()\n",
        "print(corr_matrix['Price in lakhs Cleaned'])\n",
        "\n",
        "plt.figure(figsize=(8,5))\n",
        "sns.scatterplot(temp['Property Area in Sq. Ft. Cleaned'],temp['Price in lakhs Cleaned'])\n",
        "plt.title(\"Property Area vs Price\",size=15)\n",
        "plt.xticks(rotation=45)\n",
        "plt.show()"
      ],
      "id": "cmXLhEjXR_pq"
    },
    {
      "cell_type": "code",
      "execution_count": null,
      "metadata": {
        "id": "RBA5VbTHR_pt"
      },
      "outputs": [],
      "source": [
        "df1.head(2)"
      ],
      "id": "RBA5VbTHR_pt"
    },
    {
      "cell_type": "code",
      "execution_count": null,
      "metadata": {
        "id": "SZtiUvL0R_pu"
      },
      "outputs": [],
      "source": [
        "feats_to_plot = df1.columns.tolist()[8:15]\n",
        "print(len(feats_to_plot))"
      ],
      "id": "SZtiUvL0R_pu"
    },
    {
      "cell_type": "code",
      "execution_count": null,
      "metadata": {
        "id": "Fue0NiInR_pw"
      },
      "outputs": [],
      "source": [
        "fig,ax = plt.subplots(nrows=3,ncols=3,sharey=True,figsize=(20,15))\n",
        "plt.suptitle(\"Distribution of Price by Ametnities\",size=15)\n",
        "for i,col in enumerate(feats_to_plot):\n",
        "    sns.violinplot(x = df1[col],y=df1['Price in lakhs Cleaned'],ax=ax[i//3,i%3])"
      ],
      "id": "Fue0NiInR_pw"
    },
    {
      "cell_type": "code",
      "execution_count": null,
      "metadata": {
        "id": "izzo5OQzR_py"
      },
      "outputs": [],
      "source": [
        "# Filter for top 10% priced properties\n",
        "df1[['Price in lakhs Cleaned']].describe()"
      ],
      "id": "izzo5OQzR_py"
    },
    {
      "cell_type": "code",
      "execution_count": null,
      "metadata": {
        "id": "6H0DFGunR_pz"
      },
      "outputs": [],
      "source": [
        "# selecting threshold as 80 Lakhs\n",
        "amenities_cols = df1.columns.tolist()[8:15]\n",
        "\n",
        "temp = df1[df1['Price in lakhs Cleaned']>=80][amenities_cols].sum().reset_index()\n",
        "temp.rename(columns={'index':'Amenities',0:'Popularity'},inplace=True)\n",
        "temp = temp.sort_values(by='Popularity',ascending=False)\n",
        "display(temp)\n",
        "\n",
        "plt.figure(figsize=(15,5))\n",
        "sns.barplot(x=temp['Amenities'],y=temp['Popularity'])\n",
        "plt.title(\"Top Amenities in the Premium properties\",size=15)\n",
        "plt.xticks(rotation=60)\n",
        "plt.show()"
      ],
      "id": "6H0DFGunR_pz"
    }
  ],
  "metadata": {
    "kernelspec": {
      "display_name": "Python 3",
      "language": "python",
      "name": "python3"
    },
    "language_info": {
      "codemirror_mode": {
        "name": "ipython",
        "version": 3
      },
      "file_extension": ".py",
      "mimetype": "text/x-python",
      "name": "python",
      "nbconvert_exporter": "python",
      "pygments_lexer": "ipython3",
      "version": "3.8.5"
    },
    "vscode": {
      "interpreter": {
        "hash": "7e8cbc31db87ef66faa56dc0153a3cc0cf513f996ecefcaa36993899447d62a6"
      }
    },
    "colab": {
      "provenance": []
    }
  },
  "nbformat": 4,
  "nbformat_minor": 5
}